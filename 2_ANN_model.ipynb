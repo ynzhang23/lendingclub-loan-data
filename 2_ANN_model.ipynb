{
 "cells": [
  {
   "cell_type": "code",
   "execution_count": 1,
   "id": "84020ef7",
   "metadata": {},
   "outputs": [],
   "source": [
    "%load_ext autoreload\n",
    "%autoreload 2"
   ]
  },
  {
   "cell_type": "markdown",
   "id": "c5115259",
   "metadata": {},
   "source": [
    "# ANN Model\n",
    "\n",
    "I will be building, training and testing an ANN model against the cleaned data.\n",
    "\n",
    "Target: loan_status"
   ]
  },
  {
   "cell_type": "code",
   "execution_count": 2,
   "id": "6d42bb52",
   "metadata": {},
   "outputs": [],
   "source": [
    "import numpy as np\n",
    "import pandas as pd\n",
    "import matplotlib.pyplot as plt\n",
    "import seaborn as sns\n",
    "%matplotlib inline\n",
    "\n",
    "sns.set_style('white')"
   ]
  },
  {
   "cell_type": "markdown",
   "id": "881b2733",
   "metadata": {},
   "source": [
    "# Split"
   ]
  },
  {
   "cell_type": "code",
   "execution_count": 3,
   "id": "a4faec9f",
   "metadata": {},
   "outputs": [],
   "source": [
    "from sklearn.model_selection import train_test_split"
   ]
  },
  {
   "cell_type": "code",
   "execution_count": 4,
   "id": "c9740414",
   "metadata": {},
   "outputs": [],
   "source": [
    "loan = pd.read_csv('data/loan.csv')"
   ]
  },
  {
   "cell_type": "code",
   "execution_count": 5,
   "id": "2c236376",
   "metadata": {},
   "outputs": [
    {
     "data": {
      "text/plain": [
       "0         1\n",
       "1         1\n",
       "2         1\n",
       "3         1\n",
       "4         0\n",
       "         ..\n",
       "395214    1\n",
       "395215    1\n",
       "395216    1\n",
       "395217    1\n",
       "395218    1\n",
       "Name: loan_status, Length: 395219, dtype: int64"
      ]
     },
     "execution_count": 5,
     "metadata": {},
     "output_type": "execute_result"
    }
   ],
   "source": [
    "loan['loan_status']"
   ]
  },
  {
   "cell_type": "code",
   "execution_count": 6,
   "id": "08b47e29",
   "metadata": {},
   "outputs": [],
   "source": [
    "X = loan.drop('loan_status', axis=1)\n",
    "y = loan['loan_status']"
   ]
  },
  {
   "cell_type": "code",
   "execution_count": 7,
   "id": "bf5492b3",
   "metadata": {},
   "outputs": [],
   "source": [
    "X_train, X_test, y_train, y_test = train_test_split(X, y)"
   ]
  },
  {
   "cell_type": "code",
   "execution_count": 8,
   "id": "223bd808",
   "metadata": {},
   "outputs": [
    {
     "data": {
      "text/plain": [
       "31406     1\n",
       "234046    0\n",
       "381949    1\n",
       "56044     1\n",
       "214759    0\n",
       "Name: loan_status, dtype: int64"
      ]
     },
     "execution_count": 8,
     "metadata": {},
     "output_type": "execute_result"
    }
   ],
   "source": [
    "y_train.head()"
   ]
  },
  {
   "cell_type": "code",
   "execution_count": 9,
   "id": "aff95719",
   "metadata": {},
   "outputs": [
    {
     "data": {
      "text/html": [
       "<div>\n",
       "<style scoped>\n",
       "    .dataframe tbody tr th:only-of-type {\n",
       "        vertical-align: middle;\n",
       "    }\n",
       "\n",
       "    .dataframe tbody tr th {\n",
       "        vertical-align: top;\n",
       "    }\n",
       "\n",
       "    .dataframe thead th {\n",
       "        text-align: right;\n",
       "    }\n",
       "</style>\n",
       "<table border=\"1\" class=\"dataframe\">\n",
       "  <thead>\n",
       "    <tr style=\"text-align: right;\">\n",
       "      <th></th>\n",
       "      <th>Unnamed: 0</th>\n",
       "      <th>loan_amnt</th>\n",
       "      <th>int_rate</th>\n",
       "      <th>installment</th>\n",
       "      <th>annual_inc</th>\n",
       "      <th>dti</th>\n",
       "      <th>open_acc</th>\n",
       "      <th>pub_rec</th>\n",
       "      <th>revol_bal</th>\n",
       "      <th>revol_util</th>\n",
       "      <th>...</th>\n",
       "      <th>state_SD</th>\n",
       "      <th>state_TN</th>\n",
       "      <th>state_TX</th>\n",
       "      <th>state_UT</th>\n",
       "      <th>state_VA</th>\n",
       "      <th>state_VT</th>\n",
       "      <th>state_WA</th>\n",
       "      <th>state_WI</th>\n",
       "      <th>state_WV</th>\n",
       "      <th>state_WY</th>\n",
       "    </tr>\n",
       "  </thead>\n",
       "  <tbody>\n",
       "    <tr>\n",
       "      <th>31406</th>\n",
       "      <td>31472</td>\n",
       "      <td>14000.0</td>\n",
       "      <td>11.47</td>\n",
       "      <td>461.47</td>\n",
       "      <td>37000.0</td>\n",
       "      <td>22.32</td>\n",
       "      <td>16.0</td>\n",
       "      <td>0.0</td>\n",
       "      <td>18442.0</td>\n",
       "      <td>36.0</td>\n",
       "      <td>...</td>\n",
       "      <td>0</td>\n",
       "      <td>0</td>\n",
       "      <td>0</td>\n",
       "      <td>0</td>\n",
       "      <td>0</td>\n",
       "      <td>0</td>\n",
       "      <td>0</td>\n",
       "      <td>0</td>\n",
       "      <td>0</td>\n",
       "      <td>0</td>\n",
       "    </tr>\n",
       "    <tr>\n",
       "      <th>234046</th>\n",
       "      <td>234544</td>\n",
       "      <td>3000.0</td>\n",
       "      <td>14.09</td>\n",
       "      <td>69.95</td>\n",
       "      <td>60000.0</td>\n",
       "      <td>27.16</td>\n",
       "      <td>8.0</td>\n",
       "      <td>0.0</td>\n",
       "      <td>13808.0</td>\n",
       "      <td>82.7</td>\n",
       "      <td>...</td>\n",
       "      <td>0</td>\n",
       "      <td>0</td>\n",
       "      <td>0</td>\n",
       "      <td>0</td>\n",
       "      <td>0</td>\n",
       "      <td>1</td>\n",
       "      <td>0</td>\n",
       "      <td>0</td>\n",
       "      <td>0</td>\n",
       "      <td>0</td>\n",
       "    </tr>\n",
       "    <tr>\n",
       "      <th>381949</th>\n",
       "      <td>382735</td>\n",
       "      <td>33425.0</td>\n",
       "      <td>17.76</td>\n",
       "      <td>844.42</td>\n",
       "      <td>75000.0</td>\n",
       "      <td>19.18</td>\n",
       "      <td>14.0</td>\n",
       "      <td>0.0</td>\n",
       "      <td>33126.0</td>\n",
       "      <td>64.6</td>\n",
       "      <td>...</td>\n",
       "      <td>0</td>\n",
       "      <td>0</td>\n",
       "      <td>0</td>\n",
       "      <td>0</td>\n",
       "      <td>0</td>\n",
       "      <td>0</td>\n",
       "      <td>0</td>\n",
       "      <td>0</td>\n",
       "      <td>0</td>\n",
       "      <td>0</td>\n",
       "    </tr>\n",
       "    <tr>\n",
       "      <th>56044</th>\n",
       "      <td>56145</td>\n",
       "      <td>14000.0</td>\n",
       "      <td>10.15</td>\n",
       "      <td>452.73</td>\n",
       "      <td>60000.0</td>\n",
       "      <td>9.76</td>\n",
       "      <td>10.0</td>\n",
       "      <td>2.0</td>\n",
       "      <td>11367.0</td>\n",
       "      <td>51.0</td>\n",
       "      <td>...</td>\n",
       "      <td>0</td>\n",
       "      <td>0</td>\n",
       "      <td>0</td>\n",
       "      <td>0</td>\n",
       "      <td>0</td>\n",
       "      <td>0</td>\n",
       "      <td>0</td>\n",
       "      <td>0</td>\n",
       "      <td>0</td>\n",
       "      <td>0</td>\n",
       "    </tr>\n",
       "    <tr>\n",
       "      <th>214759</th>\n",
       "      <td>215208</td>\n",
       "      <td>20000.0</td>\n",
       "      <td>11.53</td>\n",
       "      <td>659.81</td>\n",
       "      <td>75000.0</td>\n",
       "      <td>11.71</td>\n",
       "      <td>9.0</td>\n",
       "      <td>1.0</td>\n",
       "      <td>6090.0</td>\n",
       "      <td>32.4</td>\n",
       "      <td>...</td>\n",
       "      <td>0</td>\n",
       "      <td>0</td>\n",
       "      <td>0</td>\n",
       "      <td>0</td>\n",
       "      <td>0</td>\n",
       "      <td>0</td>\n",
       "      <td>0</td>\n",
       "      <td>0</td>\n",
       "      <td>0</td>\n",
       "      <td>0</td>\n",
       "    </tr>\n",
       "  </tbody>\n",
       "</table>\n",
       "<p>5 rows × 164 columns</p>\n",
       "</div>"
      ],
      "text/plain": [
       "        Unnamed: 0  loan_amnt  int_rate  installment  annual_inc    dti  \\\n",
       "31406        31472    14000.0     11.47       461.47     37000.0  22.32   \n",
       "234046      234544     3000.0     14.09        69.95     60000.0  27.16   \n",
       "381949      382735    33425.0     17.76       844.42     75000.0  19.18   \n",
       "56044        56145    14000.0     10.15       452.73     60000.0   9.76   \n",
       "214759      215208    20000.0     11.53       659.81     75000.0  11.71   \n",
       "\n",
       "        open_acc  pub_rec  revol_bal  revol_util  ...  state_SD  state_TN  \\\n",
       "31406       16.0      0.0    18442.0        36.0  ...         0         0   \n",
       "234046       8.0      0.0    13808.0        82.7  ...         0         0   \n",
       "381949      14.0      0.0    33126.0        64.6  ...         0         0   \n",
       "56044       10.0      2.0    11367.0        51.0  ...         0         0   \n",
       "214759       9.0      1.0     6090.0        32.4  ...         0         0   \n",
       "\n",
       "        state_TX  state_UT  state_VA  state_VT  state_WA  state_WI  state_WV  \\\n",
       "31406          0         0         0         0         0         0         0   \n",
       "234046         0         0         0         1         0         0         0   \n",
       "381949         0         0         0         0         0         0         0   \n",
       "56044          0         0         0         0         0         0         0   \n",
       "214759         0         0         0         0         0         0         0   \n",
       "\n",
       "        state_WY  \n",
       "31406          0  \n",
       "234046         0  \n",
       "381949         0  \n",
       "56044          0  \n",
       "214759         0  \n",
       "\n",
       "[5 rows x 164 columns]"
      ]
     },
     "execution_count": 9,
     "metadata": {},
     "output_type": "execute_result"
    }
   ],
   "source": [
    "X_train.head()"
   ]
  },
  {
   "cell_type": "markdown",
   "id": "91848340",
   "metadata": {},
   "source": [
    "# Data Scaling"
   ]
  },
  {
   "cell_type": "code",
   "execution_count": 10,
   "id": "ec639134",
   "metadata": {},
   "outputs": [],
   "source": [
    "from sklearn.preprocessing import MinMaxScaler"
   ]
  },
  {
   "cell_type": "code",
   "execution_count": 11,
   "id": "e0f282a8",
   "metadata": {},
   "outputs": [],
   "source": [
    "scaler = MinMaxScaler()"
   ]
  },
  {
   "cell_type": "code",
   "execution_count": 12,
   "id": "7669c288",
   "metadata": {},
   "outputs": [
    {
     "data": {
      "text/html": [
       "<style>#sk-container-id-1 {color: black;background-color: white;}#sk-container-id-1 pre{padding: 0;}#sk-container-id-1 div.sk-toggleable {background-color: white;}#sk-container-id-1 label.sk-toggleable__label {cursor: pointer;display: block;width: 100%;margin-bottom: 0;padding: 0.3em;box-sizing: border-box;text-align: center;}#sk-container-id-1 label.sk-toggleable__label-arrow:before {content: \"▸\";float: left;margin-right: 0.25em;color: #696969;}#sk-container-id-1 label.sk-toggleable__label-arrow:hover:before {color: black;}#sk-container-id-1 div.sk-estimator:hover label.sk-toggleable__label-arrow:before {color: black;}#sk-container-id-1 div.sk-toggleable__content {max-height: 0;max-width: 0;overflow: hidden;text-align: left;background-color: #f0f8ff;}#sk-container-id-1 div.sk-toggleable__content pre {margin: 0.2em;color: black;border-radius: 0.25em;background-color: #f0f8ff;}#sk-container-id-1 input.sk-toggleable__control:checked~div.sk-toggleable__content {max-height: 200px;max-width: 100%;overflow: auto;}#sk-container-id-1 input.sk-toggleable__control:checked~label.sk-toggleable__label-arrow:before {content: \"▾\";}#sk-container-id-1 div.sk-estimator input.sk-toggleable__control:checked~label.sk-toggleable__label {background-color: #d4ebff;}#sk-container-id-1 div.sk-label input.sk-toggleable__control:checked~label.sk-toggleable__label {background-color: #d4ebff;}#sk-container-id-1 input.sk-hidden--visually {border: 0;clip: rect(1px 1px 1px 1px);clip: rect(1px, 1px, 1px, 1px);height: 1px;margin: -1px;overflow: hidden;padding: 0;position: absolute;width: 1px;}#sk-container-id-1 div.sk-estimator {font-family: monospace;background-color: #f0f8ff;border: 1px dotted black;border-radius: 0.25em;box-sizing: border-box;margin-bottom: 0.5em;}#sk-container-id-1 div.sk-estimator:hover {background-color: #d4ebff;}#sk-container-id-1 div.sk-parallel-item::after {content: \"\";width: 100%;border-bottom: 1px solid gray;flex-grow: 1;}#sk-container-id-1 div.sk-label:hover label.sk-toggleable__label {background-color: #d4ebff;}#sk-container-id-1 div.sk-serial::before {content: \"\";position: absolute;border-left: 1px solid gray;box-sizing: border-box;top: 0;bottom: 0;left: 50%;z-index: 0;}#sk-container-id-1 div.sk-serial {display: flex;flex-direction: column;align-items: center;background-color: white;padding-right: 0.2em;padding-left: 0.2em;position: relative;}#sk-container-id-1 div.sk-item {position: relative;z-index: 1;}#sk-container-id-1 div.sk-parallel {display: flex;align-items: stretch;justify-content: center;background-color: white;position: relative;}#sk-container-id-1 div.sk-item::before, #sk-container-id-1 div.sk-parallel-item::before {content: \"\";position: absolute;border-left: 1px solid gray;box-sizing: border-box;top: 0;bottom: 0;left: 50%;z-index: -1;}#sk-container-id-1 div.sk-parallel-item {display: flex;flex-direction: column;z-index: 1;position: relative;background-color: white;}#sk-container-id-1 div.sk-parallel-item:first-child::after {align-self: flex-end;width: 50%;}#sk-container-id-1 div.sk-parallel-item:last-child::after {align-self: flex-start;width: 50%;}#sk-container-id-1 div.sk-parallel-item:only-child::after {width: 0;}#sk-container-id-1 div.sk-dashed-wrapped {border: 1px dashed gray;margin: 0 0.4em 0.5em 0.4em;box-sizing: border-box;padding-bottom: 0.4em;background-color: white;}#sk-container-id-1 div.sk-label label {font-family: monospace;font-weight: bold;display: inline-block;line-height: 1.2em;}#sk-container-id-1 div.sk-label-container {text-align: center;}#sk-container-id-1 div.sk-container {/* jupyter's `normalize.less` sets `[hidden] { display: none; }` but bootstrap.min.css set `[hidden] { display: none !important; }` so we also need the `!important` here to be able to override the default hidden behavior on the sphinx rendered scikit-learn.org. See: https://github.com/scikit-learn/scikit-learn/issues/21755 */display: inline-block !important;position: relative;}#sk-container-id-1 div.sk-text-repr-fallback {display: none;}</style><div id=\"sk-container-id-1\" class=\"sk-top-container\"><div class=\"sk-text-repr-fallback\"><pre>MinMaxScaler()</pre><b>In a Jupyter environment, please rerun this cell to show the HTML representation or trust the notebook. <br />On GitHub, the HTML representation is unable to render, please try loading this page with nbviewer.org.</b></div><div class=\"sk-container\" hidden><div class=\"sk-item\"><div class=\"sk-estimator sk-toggleable\"><input class=\"sk-toggleable__control sk-hidden--visually\" id=\"sk-estimator-id-1\" type=\"checkbox\" checked><label for=\"sk-estimator-id-1\" class=\"sk-toggleable__label sk-toggleable__label-arrow\">MinMaxScaler</label><div class=\"sk-toggleable__content\"><pre>MinMaxScaler()</pre></div></div></div></div></div>"
      ],
      "text/plain": [
       "MinMaxScaler()"
      ]
     },
     "execution_count": 12,
     "metadata": {},
     "output_type": "execute_result"
    }
   ],
   "source": [
    "scaler.fit(X_train)"
   ]
  },
  {
   "cell_type": "code",
   "execution_count": 13,
   "id": "45864b8e",
   "metadata": {},
   "outputs": [],
   "source": [
    "X_train = scaler.transform(X_train)\n",
    "X_test = scaler.transform(X_test)"
   ]
  },
  {
   "cell_type": "markdown",
   "id": "5886e0c4",
   "metadata": {},
   "source": [
    "# Early Stopping"
   ]
  },
  {
   "cell_type": "code",
   "execution_count": 14,
   "id": "7f6b60d1",
   "metadata": {},
   "outputs": [],
   "source": [
    "from tensorflow.keras.callbacks import EarlyStopping"
   ]
  },
  {
   "cell_type": "code",
   "execution_count": 15,
   "id": "fd6cdb53",
   "metadata": {},
   "outputs": [],
   "source": [
    "early_stop = EarlyStopping(monitor='val_loss', mode='min', verbose=1, patience=15)"
   ]
  },
  {
   "cell_type": "markdown",
   "id": "9461836b",
   "metadata": {},
   "source": [
    "# Build 01 - 1 Hidden Layer"
   ]
  },
  {
   "cell_type": "code",
   "execution_count": 16,
   "id": "1da7f1e9",
   "metadata": {},
   "outputs": [],
   "source": [
    "import tensorflow as tf\n",
    "from tensorflow.keras.models import Sequential\n",
    "from tensorflow.keras.layers import Dense, Activation, Dropout"
   ]
  },
  {
   "cell_type": "code",
   "execution_count": 17,
   "id": "e745b112",
   "metadata": {},
   "outputs": [
    {
     "data": {
      "text/plain": [
       "(296414, 164)"
      ]
     },
     "execution_count": 17,
     "metadata": {},
     "output_type": "execute_result"
    }
   ],
   "source": [
    "X_train.shape"
   ]
  },
  {
   "cell_type": "code",
   "execution_count": 18,
   "id": "8f4c0e69",
   "metadata": {
    "scrolled": false
   },
   "outputs": [],
   "source": [
    "model = Sequential()\n",
    "\n",
    "# input layer\n",
    "model.add(Dense(164, activation='relu'))\n",
    "\n",
    "# hidden layer\n",
    "model.add(Dense(83, activation='relu'))\n",
    "\n",
    "# hidden layer\n",
    "model.add(Dense(1, activation='sigmoid'))\n",
    "\n",
    "model.compile(loss=\"binary_crossentropy\", optimizer='adam')"
   ]
  },
  {
   "cell_type": "markdown",
   "id": "04137a8d",
   "metadata": {},
   "source": [
    "## Large Batch Size"
   ]
  },
  {
   "cell_type": "code",
   "execution_count": 19,
   "id": "8e05803a",
   "metadata": {
    "scrolled": true
   },
   "outputs": [
    {
     "name": "stdout",
     "output_type": "stream",
     "text": [
      "Epoch 1/300\n"
     ]
    },
    {
     "name": "stderr",
     "output_type": "stream",
     "text": [
      "2023-03-02 16:20:54.350068: W tensorflow/core/platform/profile_utils/cpu_utils.cc:128] Failed to get CPU frequency: 0 Hz\n"
     ]
    },
    {
     "name": "stdout",
     "output_type": "stream",
     "text": [
      "1483/1483 [==============================] - 2s 1ms/step - loss: 0.3969 - val_loss: 0.3633\n",
      "Epoch 2/300\n",
      "1483/1483 [==============================] - 2s 1ms/step - loss: 0.3574 - val_loss: 0.3547\n",
      "Epoch 3/300\n",
      "1483/1483 [==============================] - 2s 1ms/step - loss: 0.3222 - val_loss: 0.2878\n",
      "Epoch 4/300\n",
      "1483/1483 [==============================] - 2s 1ms/step - loss: 0.2770 - val_loss: 0.2772\n",
      "Epoch 5/300\n",
      "1483/1483 [==============================] - 2s 1ms/step - loss: 0.2707 - val_loss: 0.2734\n",
      "Epoch 6/300\n",
      "1483/1483 [==============================] - 2s 1ms/step - loss: 0.2684 - val_loss: 0.2731\n",
      "Epoch 7/300\n",
      "1483/1483 [==============================] - 2s 1ms/step - loss: 0.2659 - val_loss: 0.2730\n",
      "Epoch 8/300\n",
      "1483/1483 [==============================] - 2s 1ms/step - loss: 0.2641 - val_loss: 0.2770\n",
      "Epoch 9/300\n",
      "1483/1483 [==============================] - 2s 1ms/step - loss: 0.2624 - val_loss: 0.2760\n",
      "Epoch 10/300\n",
      "1483/1483 [==============================] - 2s 1ms/step - loss: 0.2603 - val_loss: 0.2785\n",
      "Epoch 11/300\n",
      "1483/1483 [==============================] - 2s 1ms/step - loss: 0.2590 - val_loss: 0.2791\n",
      "Epoch 12/300\n",
      "1483/1483 [==============================] - 2s 1ms/step - loss: 0.2569 - val_loss: 0.2783\n",
      "Epoch 13/300\n",
      "1483/1483 [==============================] - 2s 1ms/step - loss: 0.2558 - val_loss: 0.2801\n",
      "Epoch 14/300\n",
      "1483/1483 [==============================] - 2s 1ms/step - loss: 0.2540 - val_loss: 0.2809\n",
      "Epoch 15/300\n",
      "1483/1483 [==============================] - 2s 1ms/step - loss: 0.2524 - val_loss: 0.2822\n",
      "Epoch 16/300\n",
      "1483/1483 [==============================] - 2s 1ms/step - loss: 0.2511 - val_loss: 0.2855\n",
      "Epoch 17/300\n",
      "1483/1483 [==============================] - 2s 1ms/step - loss: 0.2494 - val_loss: 0.2833\n",
      "Epoch 18/300\n",
      "1483/1483 [==============================] - 2s 1ms/step - loss: 0.2478 - val_loss: 0.2861\n",
      "Epoch 19/300\n",
      "1483/1483 [==============================] - 2s 1ms/step - loss: 0.2461 - val_loss: 0.2857\n",
      "Epoch 20/300\n",
      "1483/1483 [==============================] - 2s 1ms/step - loss: 0.2447 - val_loss: 0.2874\n",
      "Epoch 21/300\n",
      "1483/1483 [==============================] - 2s 1ms/step - loss: 0.2431 - val_loss: 0.2895\n",
      "Epoch 22/300\n",
      "1483/1483 [==============================] - 2s 1ms/step - loss: 0.2419 - val_loss: 0.2927\n",
      "Epoch 22: early stopping\n"
     ]
    },
    {
     "data": {
      "text/plain": [
       "<keras.callbacks.History at 0x280b1bd30>"
      ]
     },
     "execution_count": 19,
     "metadata": {},
     "output_type": "execute_result"
    }
   ],
   "source": [
    "model.fit(x=X_train,\n",
    "          y=y_train,\n",
    "          epochs=300,\n",
    "          batch_size=200,\n",
    "          validation_data=(X_test, y_test), verbose=1,\n",
    "          callbacks=[early_stop]\n",
    "          )"
   ]
  },
  {
   "cell_type": "code",
   "execution_count": 20,
   "id": "185fe7b5",
   "metadata": {
    "scrolled": false
   },
   "outputs": [
    {
     "data": {
      "text/plain": [
       "<Axes: >"
      ]
     },
     "execution_count": 20,
     "metadata": {},
     "output_type": "execute_result"
    },
    {
     "data": {
      "image/png": "[encoded data removed]",
      "text/plain": [
       "<Figure size 640x480 with 1 Axes>"
      ]
     },
     "metadata": {},
     "output_type": "display_data"
    }
   ],
   "source": [
    "model_loss = pd.DataFrame(model.history.history)\n",
    "model_loss.plot()"
   ]
  },
  {
   "cell_type": "markdown",
   "id": "8c23230b",
   "metadata": {},
   "source": [
    "# Small batch size"
   ]
  },
  {
   "cell_type": "code",
   "execution_count": 21,
   "id": "0cc6ea11",
   "metadata": {
    "scrolled": true
   },
   "outputs": [
    {
     "name": "stdout",
     "output_type": "stream",
     "text": [
      "Epoch 1/300\n",
      "9263/9263 [==============================] - 7s 802us/step - loss: 0.2613 - val_loss: 0.2889\n",
      "Epoch 2/300\n",
      "9263/9263 [==============================] - 7s 796us/step - loss: 0.2568 - val_loss: 0.2814\n",
      "Epoch 3/300\n",
      "9263/9263 [==============================] - 7s 798us/step - loss: 0.2547 - val_loss: 0.2899\n",
      "Epoch 4/300\n",
      "9263/9263 [==============================] - 7s 796us/step - loss: 0.2532 - val_loss: 0.2901\n",
      "Epoch 5/300\n",
      "9263/9263 [==============================] - 7s 800us/step - loss: 0.2515 - val_loss: 0.2880\n",
      "Epoch 6/300\n",
      "9263/9263 [==============================] - 7s 798us/step - loss: 0.2488 - val_loss: 0.2937\n",
      "Epoch 7/300\n",
      "9263/9263 [==============================] - 8s 874us/step - loss: 0.2471 - val_loss: 0.2921\n",
      "Epoch 8/300\n",
      "9263/9263 [==============================] - 8s 852us/step - loss: 0.2452 - val_loss: 0.2945\n",
      "Epoch 9/300\n",
      "9263/9263 [==============================] - 8s 812us/step - loss: 0.2434 - val_loss: 0.2964\n",
      "Epoch 10/300\n",
      "9263/9263 [==============================] - 7s 791us/step - loss: 0.2409 - val_loss: 0.2980\n",
      "Epoch 11/300\n",
      "9263/9263 [==============================] - 7s 780us/step - loss: 0.2393 - val_loss: 0.3006\n",
      "Epoch 12/300\n",
      "9263/9263 [==============================] - 7s 781us/step - loss: 0.2378 - val_loss: 0.3014\n",
      "Epoch 13/300\n",
      "9263/9263 [==============================] - 7s 784us/step - loss: 0.2357 - val_loss: 0.3038\n",
      "Epoch 14/300\n",
      "9263/9263 [==============================] - 7s 794us/step - loss: 0.2337 - val_loss: 0.3055\n",
      "Epoch 15/300\n",
      "9263/9263 [==============================] - 7s 794us/step - loss: 0.2324 - val_loss: 0.3104\n",
      "Epoch 16/300\n",
      "9263/9263 [==============================] - 7s 788us/step - loss: 0.2309 - val_loss: 0.3109\n",
      "Epoch 17/300\n",
      "9263/9263 [==============================] - 7s 799us/step - loss: 0.2289 - val_loss: 0.3142\n",
      "Epoch 17: early stopping\n"
     ]
    },
    {
     "data": {
      "text/plain": [
       "<keras.callbacks.History at 0x280cf6200>"
      ]
     },
     "execution_count": 21,
     "metadata": {},
     "output_type": "execute_result"
    }
   ],
   "source": [
    "model.fit(x=X_train,\n",
    "          y=y_train,\n",
    "          epochs=300,\n",
    "          batch_size=32,\n",
    "          validation_data=(X_test, y_test), verbose=1,\n",
    "          callbacks=[early_stop]\n",
    "          )"
   ]
  },
  {
   "cell_type": "code",
   "execution_count": 22,
   "id": "e3580aa2",
   "metadata": {
    "scrolled": false
   },
   "outputs": [
    {
     "data": {
      "text/plain": [
       "<Axes: >"
      ]
     },
     "execution_count": 22,
     "metadata": {},
     "output_type": "execute_result"
    },
    {
     "data": {
      "image/png": "[encoded data removed]",
      "text/plain": [
       "<Figure size 640x480 with 1 Axes>"
      ]
     },
     "metadata": {},
     "output_type": "display_data"
    }
   ],
   "source": []
  },
  {
   "cell_type": "markdown",
   "id": "d56aedbe",
   "metadata": {},
   "source": [
    "# Build 02 - 2 Hidden Layers"
   ]
  },
  {
   "cell_type": "code",
   "execution_count": 28,
   "id": "6a50b964",
   "metadata": {},
   "outputs": [],
   "source": [
    "model = Sequential()\n",
    "\n",
    "# input layer\n",
    "model.add(Dense(164, activation='relu'))\n",
    "\n",
    "# hidden layer\n",
    "model.add(Dense(83, activation='relu'))\n",
    "\n",
    "# hidden layer\n",
    "model.add(Dense(20, activation='relu'))\n",
    "\n",
    "# hidden layer\n",
    "model.add(Dense(1, activation='sigmoid'))\n",
    "\n",
    "model.compile(loss=\"binary_crossentropy\", optimizer='adam')"
   ]
  },
  {
   "cell_type": "code",
   "execution_count": 29,
   "id": "3e768628",
   "metadata": {
    "scrolled": true
   },
   "outputs": [
    {
     "name": "stdout",
     "output_type": "stream",
     "text": [
      "Epoch 1/300\n",
      "9263/9263 [==============================] - 8s 846us/step - loss: 0.3558 - val_loss: 0.2888\n",
      "Epoch 2/300\n",
      "9263/9263 [==============================] - 8s 833us/step - loss: 0.2833 - val_loss: 0.2766\n",
      "Epoch 3/300\n",
      "9263/9263 [==============================] - 8s 851us/step - loss: 0.2766 - val_loss: 0.2721\n",
      "Epoch 4/300\n",
      "9263/9263 [==============================] - 8s 852us/step - loss: 0.2737 - val_loss: 0.2772\n",
      "Epoch 5/300\n",
      "9263/9263 [==============================] - 8s 873us/step - loss: 0.2713 - val_loss: 0.2731\n",
      "Epoch 6/300\n",
      "9263/9263 [==============================] - 8s 861us/step - loss: 0.2686 - val_loss: 0.2723\n",
      "Epoch 7/300\n",
      "9263/9263 [==============================] - 8s 836us/step - loss: 0.2661 - val_loss: 0.2739\n",
      "Epoch 8/300\n",
      "9263/9263 [==============================] - 8s 848us/step - loss: 0.2637 - val_loss: 0.2747\n",
      "Epoch 9/300\n",
      "9263/9263 [==============================] - 8s 845us/step - loss: 0.2613 - val_loss: 0.2765\n",
      "Epoch 10/300\n",
      "9263/9263 [==============================] - 8s 848us/step - loss: 0.2588 - val_loss: 0.2793\n",
      "Epoch 11/300\n",
      "9263/9263 [==============================] - 8s 852us/step - loss: 0.2565 - val_loss: 0.2796\n",
      "Epoch 12/300\n",
      "9263/9263 [==============================] - 8s 862us/step - loss: 0.2545 - val_loss: 0.2867\n",
      "Epoch 13/300\n",
      "9263/9263 [==============================] - 8s 866us/step - loss: 0.2527 - val_loss: 0.2798\n",
      "Epoch 14/300\n",
      "9263/9263 [==============================] - 8s 869us/step - loss: 0.2503 - val_loss: 0.2855\n",
      "Epoch 15/300\n",
      "9263/9263 [==============================] - 8s 860us/step - loss: 0.2485 - val_loss: 0.2885\n",
      "Epoch 16/300\n",
      "9263/9263 [==============================] - 8s 835us/step - loss: 0.2465 - val_loss: 0.2950\n",
      "Epoch 17/300\n",
      "9263/9263 [==============================] - 8s 826us/step - loss: 0.2445 - val_loss: 0.2928\n",
      "Epoch 18/300\n",
      "9263/9263 [==============================] - 7s 803us/step - loss: 0.2429 - val_loss: 0.2933\n",
      "Epoch 18: early stopping\n"
     ]
    },
    {
     "data": {
      "text/plain": [
       "<keras.callbacks.History at 0x2a68275b0>"
      ]
     },
     "execution_count": 29,
     "metadata": {},
     "output_type": "execute_result"
    }
   ],
   "source": [
    "model.fit(x=X_train,\n",
    "          y=y_train,\n",
    "          epochs=300,\n",
    "          batch_size=32,\n",
    "          validation_data=(X_test, y_test), verbose=1,\n",
    "          callbacks=[early_stop]\n",
    "          )"
   ]
  },
  {
   "cell_type": "code",
   "execution_count": 31,
   "id": "b811e782",
   "metadata": {},
   "outputs": [
    {
     "data": {
      "text/plain": [
       "<Axes: >"
      ]
     },
     "execution_count": 31,
     "metadata": {},
     "output_type": "execute_result"
    },
    {
     "data": {
      "image/png": "[encoded data removed]",
      "text/plain": [
       "<Figure size 640x480 with 1 Axes>"
      ]
     },
     "metadata": {},
     "output_type": "display_data"
    }
   ],
   "source": [
    "model_loss = pd.DataFrame(model.history.history)\n",
    "model_loss.plot()"
   ]
  },
  {
   "cell_type": "markdown",
   "id": "752418a7",
   "metadata": {},
   "source": [
    "# Adding DropOut()"
   ]
  },
  {
   "cell_type": "code",
   "execution_count": 33,
   "id": "98a0e89c",
   "metadata": {},
   "outputs": [],
   "source": [
    "model = Sequential()\n",
    "\n",
    "# input layer\n",
    "model.add(Dense(164, activation='relu'))\n",
    "model.add(Dropout(0.8))\n",
    "\n",
    "# hidden layer\n",
    "model.add(Dense(83, activation='relu'))\n",
    "model.add(Dropout(0.5))\n",
    "\n",
    "# hidden layer\n",
    "model.add(Dense(20, activation='relu'))\n",
    "model.add(Dropout(0.2))\n",
    "\n",
    "# hidden layer\n",
    "model.add(Dense(1, activation='sigmoid'))\n",
    "\n",
    "model.compile(loss=\"binary_crossentropy\", optimizer='adam')"
   ]
  },
  {
   "cell_type": "code",
   "execution_count": 34,
   "id": "e1585f2a",
   "metadata": {
    "scrolled": true
   },
   "outputs": [
    {
     "name": "stdout",
     "output_type": "stream",
     "text": [
      "Epoch 1/300\n",
      "1483/1483 [==============================] - 2s 2ms/step - loss: 0.4476 - val_loss: 0.4085\n",
      "Epoch 2/300\n",
      "1483/1483 [==============================] - 2s 1ms/step - loss: 0.4069 - val_loss: 0.3729\n",
      "Epoch 3/300\n",
      "1483/1483 [==============================] - 2s 1ms/step - loss: 0.3881 - val_loss: 0.3662\n",
      "Epoch 4/300\n",
      "1483/1483 [==============================] - 2s 1ms/step - loss: 0.3803 - val_loss: 0.3613\n",
      "Epoch 5/300\n",
      "1483/1483 [==============================] - 2s 1ms/step - loss: 0.3774 - val_loss: 0.3594\n",
      "Epoch 6/300\n",
      "1483/1483 [==============================] - 2s 1ms/step - loss: 0.3752 - val_loss: 0.3592\n",
      "Epoch 7/300\n",
      "1483/1483 [==============================] - 2s 1ms/step - loss: 0.3738 - val_loss: 0.3590\n",
      "Epoch 8/300\n",
      "1483/1483 [==============================] - 2s 2ms/step - loss: 0.3736 - val_loss: 0.3607\n",
      "Epoch 9/300\n",
      "1483/1483 [==============================] - 2s 1ms/step - loss: 0.3727 - val_loss: 0.3571\n",
      "Epoch 10/300\n",
      "1483/1483 [==============================] - 2s 1ms/step - loss: 0.3715 - val_loss: 0.3577\n",
      "Epoch 11/300\n",
      "1483/1483 [==============================] - 2s 2ms/step - loss: 0.3709 - val_loss: 0.3592\n",
      "Epoch 12/300\n",
      "1483/1483 [==============================] - 2s 2ms/step - loss: 0.3706 - val_loss: 0.3573\n",
      "Epoch 13/300\n",
      "1483/1483 [==============================] - 2s 1ms/step - loss: 0.3697 - val_loss: 0.3564\n",
      "Epoch 14/300\n",
      "1483/1483 [==============================] - 2s 1ms/step - loss: 0.3699 - val_loss: 0.3571\n",
      "Epoch 15/300\n",
      "1483/1483 [==============================] - 2s 2ms/step - loss: 0.3690 - val_loss: 0.3556\n",
      "Epoch 16/300\n",
      "1483/1483 [==============================] - 2s 2ms/step - loss: 0.3669 - val_loss: 0.3524\n",
      "Epoch 17/300\n",
      "1483/1483 [==============================] - 2s 2ms/step - loss: 0.3640 - val_loss: 0.3468\n",
      "Epoch 18/300\n",
      "1483/1483 [==============================] - 2s 1ms/step - loss: 0.3592 - val_loss: 0.3367\n",
      "Epoch 19/300\n",
      "1483/1483 [==============================] - 2s 1ms/step - loss: 0.3552 - val_loss: 0.3316\n",
      "Epoch 20/300\n",
      "1483/1483 [==============================] - 2s 1ms/step - loss: 0.3523 - val_loss: 0.3295\n",
      "Epoch 21/300\n",
      "1483/1483 [==============================] - 2s 1ms/step - loss: 0.3520 - val_loss: 0.3295\n",
      "Epoch 22/300\n",
      "1483/1483 [==============================] - 2s 1ms/step - loss: 0.3507 - val_loss: 0.3277\n",
      "Epoch 23/300\n",
      "1483/1483 [==============================] - 2s 2ms/step - loss: 0.3497 - val_loss: 0.3271\n",
      "Epoch 24/300\n",
      "1483/1483 [==============================] - 2s 2ms/step - loss: 0.3486 - val_loss: 0.3273\n",
      "Epoch 25/300\n",
      "1483/1483 [==============================] - 2s 2ms/step - loss: 0.3482 - val_loss: 0.3265\n",
      "Epoch 26/300\n",
      "1483/1483 [==============================] - 2s 2ms/step - loss: 0.3457 - val_loss: 0.3264\n",
      "Epoch 27/300\n",
      "1483/1483 [==============================] - 2s 1ms/step - loss: 0.3446 - val_loss: 0.3256\n",
      "Epoch 28/300\n",
      "1483/1483 [==============================] - 2s 2ms/step - loss: 0.3447 - val_loss: 0.3252\n",
      "Epoch 29/300\n",
      "1483/1483 [==============================] - 2s 2ms/step - loss: 0.3436 - val_loss: 0.3267\n",
      "Epoch 30/300\n",
      "1483/1483 [==============================] - 3s 2ms/step - loss: 0.3435 - val_loss: 0.3251\n",
      "Epoch 31/300\n",
      "1483/1483 [==============================] - 2s 2ms/step - loss: 0.3432 - val_loss: 0.3249\n",
      "Epoch 32/300\n",
      "1483/1483 [==============================] - 2s 2ms/step - loss: 0.3432 - val_loss: 0.3241\n",
      "Epoch 33/300\n",
      "1483/1483 [==============================] - 2s 2ms/step - loss: 0.3423 - val_loss: 0.3243\n",
      "Epoch 34/300\n",
      "1483/1483 [==============================] - 2s 2ms/step - loss: 0.3422 - val_loss: 0.3242\n",
      "Epoch 35/300\n",
      "1483/1483 [==============================] - 2s 2ms/step - loss: 0.3421 - val_loss: 0.3254\n",
      "Epoch 36/300\n",
      "1483/1483 [==============================] - 2s 2ms/step - loss: 0.3419 - val_loss: 0.3248\n",
      "Epoch 37/300\n",
      "1483/1483 [==============================] - 2s 2ms/step - loss: 0.3418 - val_loss: 0.3255\n",
      "Epoch 38/300\n",
      "1483/1483 [==============================] - 2s 2ms/step - loss: 0.3412 - val_loss: 0.3244\n",
      "Epoch 39/300\n",
      "1483/1483 [==============================] - 2s 2ms/step - loss: 0.3418 - val_loss: 0.3258\n",
      "Epoch 40/300\n",
      "1483/1483 [==============================] - 2s 2ms/step - loss: 0.3417 - val_loss: 0.3237\n",
      "Epoch 41/300\n",
      "1483/1483 [==============================] - 2s 2ms/step - loss: 0.3416 - val_loss: 0.3252\n",
      "Epoch 42/300\n",
      "1483/1483 [==============================] - 2s 2ms/step - loss: 0.3409 - val_loss: 0.3230\n",
      "Epoch 43/300\n",
      "1483/1483 [==============================] - 2s 2ms/step - loss: 0.3415 - val_loss: 0.3230\n",
      "Epoch 44/300\n",
      "1483/1483 [==============================] - 2s 1ms/step - loss: 0.3410 - val_loss: 0.3246\n",
      "Epoch 45/300\n",
      "1483/1483 [==============================] - 2s 1ms/step - loss: 0.3413 - val_loss: 0.3247\n",
      "Epoch 46/300\n",
      "1483/1483 [==============================] - 2s 2ms/step - loss: 0.3406 - val_loss: 0.3229\n",
      "Epoch 47/300\n",
      "1483/1483 [==============================] - 2s 2ms/step - loss: 0.3410 - val_loss: 0.3223\n",
      "Epoch 48/300\n",
      "1483/1483 [==============================] - 2s 2ms/step - loss: 0.3406 - val_loss: 0.3242\n",
      "Epoch 49/300\n",
      "1483/1483 [==============================] - 2s 2ms/step - loss: 0.3407 - val_loss: 0.3251\n",
      "Epoch 50/300\n",
      "1483/1483 [==============================] - 2s 2ms/step - loss: 0.3401 - val_loss: 0.3238\n",
      "Epoch 51/300\n",
      "1483/1483 [==============================] - 2s 2ms/step - loss: 0.3407 - val_loss: 0.3234\n",
      "Epoch 52/300\n",
      "1483/1483 [==============================] - 2s 2ms/step - loss: 0.3408 - val_loss: 0.3239\n",
      "Epoch 53/300\n",
      "1483/1483 [==============================] - 2s 2ms/step - loss: 0.3400 - val_loss: 0.3242\n",
      "Epoch 54/300\n",
      "1483/1483 [==============================] - 2s 2ms/step - loss: 0.3407 - val_loss: 0.3234\n",
      "Epoch 55/300\n",
      "1483/1483 [==============================] - 2s 2ms/step - loss: 0.3404 - val_loss: 0.3245\n",
      "Epoch 56/300\n",
      "1483/1483 [==============================] - 2s 2ms/step - loss: 0.3401 - val_loss: 0.3232\n",
      "Epoch 57/300\n",
      "1483/1483 [==============================] - 2s 2ms/step - loss: 0.3402 - val_loss: 0.3239\n",
      "Epoch 58/300\n",
      "1483/1483 [==============================] - 2s 2ms/step - loss: 0.3401 - val_loss: 0.3237\n",
      "Epoch 59/300\n",
      "1483/1483 [==============================] - 2s 2ms/step - loss: 0.3403 - val_loss: 0.3234\n",
      "Epoch 60/300\n",
      "1483/1483 [==============================] - 2s 1ms/step - loss: 0.3403 - val_loss: 0.3232\n",
      "Epoch 61/300\n",
      "1483/1483 [==============================] - 2s 1ms/step - loss: 0.3407 - val_loss: 0.3239\n",
      "Epoch 62/300\n",
      "1483/1483 [==============================] - 2s 1ms/step - loss: 0.3400 - val_loss: 0.3239\n",
      "Epoch 62: early stopping\n"
     ]
    },
    {
     "data": {
      "text/plain": [
       "<keras.callbacks.History at 0x2e3eef700>"
      ]
     },
     "execution_count": 34,
     "metadata": {},
     "output_type": "execute_result"
    }
   ],
   "source": [
    "model.fit(x=X_train,\n",
    "          y=y_train,\n",
    "          epochs=300,\n",
    "          batch_size=200,\n",
    "          validation_data=(X_test, y_test), verbose=1,\n",
    "          callbacks=[early_stop]\n",
    "          )"
   ]
  },
  {
   "cell_type": "markdown",
   "id": "f0f4ab11",
   "metadata": {},
   "source": [
    "# 0.2 Dropout"
   ]
  },
  {
   "cell_type": "code",
   "execution_count": 39,
   "id": "7c43d924",
   "metadata": {},
   "outputs": [],
   "source": [
    "model = Sequential()\n",
    "\n",
    "# input layer\n",
    "model.add(Dense(164, activation='relu'))\n",
    "model.add(Dropout(0.2))\n",
    "\n",
    "# hidden layer\n",
    "model.add(Dense(83, activation='relu'))\n",
    "model.add(Dropout(0.2))\n",
    "\n",
    "# hidden layer\n",
    "model.add(Dense(20, activation='relu'))\n",
    "model.add(Dropout(0.2))\n",
    "\n",
    "# hidden layer\n",
    "model.add(Dense(1, activation='sigmoid'))\n",
    "\n",
    "model.compile(loss=\"binary_crossentropy\", optimizer='adam')"
   ]
  },
  {
   "cell_type": "code",
   "execution_count": 40,
   "id": "cd4c361b",
   "metadata": {
    "scrolled": true
   },
   "outputs": [
    {
     "name": "stdout",
     "output_type": "stream",
     "text": [
      "Epoch 1/300\n",
      "1158/1158 [==============================] - 2s 2ms/step - loss: 0.4035 - val_loss: 0.3596\n",
      "Epoch 2/300\n",
      "1158/1158 [==============================] - 2s 2ms/step - loss: 0.3672 - val_loss: 0.3571\n",
      "Epoch 3/300\n",
      "1158/1158 [==============================] - 2s 2ms/step - loss: 0.3605 - val_loss: 0.3531\n",
      "Epoch 4/300\n",
      "1158/1158 [==============================] - 2s 2ms/step - loss: 0.3555 - val_loss: 0.3448\n",
      "Epoch 5/300\n",
      "1158/1158 [==============================] - 2s 2ms/step - loss: 0.3419 - val_loss: 0.3096\n",
      "Epoch 6/300\n",
      "1158/1158 [==============================] - 2s 2ms/step - loss: 0.3011 - val_loss: 0.2778\n",
      "Epoch 7/300\n",
      "1158/1158 [==============================] - 2s 2ms/step - loss: 0.2834 - val_loss: 0.2773\n",
      "Epoch 8/300\n",
      "1158/1158 [==============================] - 2s 2ms/step - loss: 0.2778 - val_loss: 0.2748\n",
      "Epoch 9/300\n",
      "1158/1158 [==============================] - 2s 2ms/step - loss: 0.2755 - val_loss: 0.2748\n",
      "Epoch 10/300\n",
      "1158/1158 [==============================] - 2s 2ms/step - loss: 0.2733 - val_loss: 0.2737\n",
      "Epoch 11/300\n",
      "1158/1158 [==============================] - 2s 2ms/step - loss: 0.2720 - val_loss: 0.2740\n",
      "Epoch 12/300\n",
      "1158/1158 [==============================] - 2s 2ms/step - loss: 0.2710 - val_loss: 0.2746\n",
      "Epoch 13/300\n",
      "1158/1158 [==============================] - 2s 2ms/step - loss: 0.2699 - val_loss: 0.2764\n",
      "Epoch 14/300\n",
      "1158/1158 [==============================] - 2s 2ms/step - loss: 0.2685 - val_loss: 0.2753\n",
      "Epoch 15/300\n",
      "1158/1158 [==============================] - 2s 2ms/step - loss: 0.2675 - val_loss: 0.2755\n",
      "Epoch 16/300\n",
      "1158/1158 [==============================] - 2s 2ms/step - loss: 0.2665 - val_loss: 0.2763\n",
      "Epoch 17/300\n",
      "1158/1158 [==============================] - 2s 2ms/step - loss: 0.2657 - val_loss: 0.2778\n",
      "Epoch 18/300\n",
      "1158/1158 [==============================] - 2s 2ms/step - loss: 0.2643 - val_loss: 0.2763\n",
      "Epoch 19/300\n",
      "1158/1158 [==============================] - 2s 2ms/step - loss: 0.2633 - val_loss: 0.2778\n",
      "Epoch 20/300\n",
      "1158/1158 [==============================] - 2s 2ms/step - loss: 0.2626 - val_loss: 0.2786\n",
      "Epoch 21/300\n",
      "1158/1158 [==============================] - 2s 2ms/step - loss: 0.2618 - val_loss: 0.2788\n",
      "Epoch 22/300\n",
      "1158/1158 [==============================] - 2s 2ms/step - loss: 0.2609 - val_loss: 0.2794\n",
      "Epoch 23/300\n",
      "1158/1158 [==============================] - 2s 2ms/step - loss: 0.2607 - val_loss: 0.2788\n",
      "Epoch 24/300\n",
      "1158/1158 [==============================] - 2s 2ms/step - loss: 0.2594 - val_loss: 0.2787\n",
      "Epoch 25/300\n",
      "1158/1158 [==============================] - 2s 2ms/step - loss: 0.2584 - val_loss: 0.2802\n",
      "Epoch 25: early stopping\n"
     ]
    },
    {
     "data": {
      "text/plain": [
       "<keras.callbacks.History at 0x281dffb80>"
      ]
     },
     "execution_count": 40,
     "metadata": {},
     "output_type": "execute_result"
    }
   ],
   "source": [
    "model.fit(x=X_train,\n",
    "          y=y_train,\n",
    "          epochs=300,\n",
    "          batch_size=256,\n",
    "          validation_data=(X_test, y_test), verbose=1,\n",
    "          callbacks=[early_stop]\n",
    "          )"
   ]
  },
  {
   "cell_type": "code",
   "execution_count": 41,
   "id": "8b3ef8cd",
   "metadata": {},
   "outputs": [
    {
     "data": {
      "text/plain": [
       "<Axes: >"
      ]
     },
     "execution_count": 41,
     "metadata": {},
     "output_type": "execute_result"
    },
    {
     "data": {
      "image/png": "[encoded data removed]",
      "text/plain": [
       "<Figure size 640x480 with 1 Axes>"
      ]
     },
     "metadata": {},
     "output_type": "display_data"
    }
   ],
   "source": [
    "model_loss = pd.DataFrame(model.history.history)\n",
    "model_loss.plot()"
   ]
  },
  {
   "cell_type": "markdown",
   "id": "cdf3ca62",
   "metadata": {},
   "source": [
    "# 0.5 Dropout"
   ]
  },
  {
   "cell_type": "code",
   "execution_count": 44,
   "id": "97cf9fdd",
   "metadata": {},
   "outputs": [],
   "source": [
    "model = Sequential()\n",
    "\n",
    "# input layer\n",
    "model.add(Dense(164, activation='relu'))\n",
    "model.add(Dropout(0.5))\n",
    "\n",
    "# hidden layer\n",
    "model.add(Dense(83, activation='relu'))\n",
    "model.add(Dropout(0.5))\n",
    "\n",
    "# hidden layer\n",
    "model.add(Dense(20, activation='relu'))\n",
    "model.add(Dropout(0.5))\n",
    "\n",
    "# hidden layer\n",
    "model.add(Dense(1, activation='sigmoid'))\n",
    "\n",
    "model.compile(loss=\"binary_crossentropy\", optimizer='adam')"
   ]
  },
  {
   "cell_type": "code",
   "execution_count": 45,
   "id": "7d2cf4b4",
   "metadata": {
    "scrolled": true
   },
   "outputs": [
    {
     "name": "stdout",
     "output_type": "stream",
     "text": [
      "Epoch 1/300\n",
      "1158/1158 [==============================] - 2s 2ms/step - loss: 0.4376 - val_loss: 0.3873\n",
      "Epoch 2/300\n",
      "1158/1158 [==============================] - 2s 2ms/step - loss: 0.3906 - val_loss: 0.3592\n",
      "Epoch 3/300\n",
      "1158/1158 [==============================] - 2s 2ms/step - loss: 0.3711 - val_loss: 0.3567\n",
      "Epoch 4/300\n",
      "1158/1158 [==============================] - 2s 2ms/step - loss: 0.3669 - val_loss: 0.3563\n",
      "Epoch 5/300\n",
      "1158/1158 [==============================] - 2s 2ms/step - loss: 0.3644 - val_loss: 0.3549\n",
      "Epoch 6/300\n",
      "1158/1158 [==============================] - 2s 2ms/step - loss: 0.3613 - val_loss: 0.3495\n",
      "Epoch 7/300\n",
      "1158/1158 [==============================] - 2s 2ms/step - loss: 0.3515 - val_loss: 0.3296\n",
      "Epoch 8/300\n",
      "1158/1158 [==============================] - 2s 2ms/step - loss: 0.3389 - val_loss: 0.3213\n",
      "Epoch 9/300\n",
      "1158/1158 [==============================] - 2s 2ms/step - loss: 0.3302 - val_loss: 0.3042\n",
      "Epoch 10/300\n",
      "1158/1158 [==============================] - 2s 2ms/step - loss: 0.3182 - val_loss: 0.2896\n",
      "Epoch 11/300\n",
      "1158/1158 [==============================] - 2s 2ms/step - loss: 0.3090 - val_loss: 0.2847\n",
      "Epoch 12/300\n",
      "1158/1158 [==============================] - 2s 2ms/step - loss: 0.3030 - val_loss: 0.2796\n",
      "Epoch 13/300\n",
      "1158/1158 [==============================] - 2s 2ms/step - loss: 0.2986 - val_loss: 0.2784\n",
      "Epoch 14/300\n",
      "1158/1158 [==============================] - 2s 2ms/step - loss: 0.2953 - val_loss: 0.2773\n",
      "Epoch 15/300\n",
      "1158/1158 [==============================] - 2s 2ms/step - loss: 0.2941 - val_loss: 0.2803\n",
      "Epoch 16/300\n",
      "1158/1158 [==============================] - 2s 2ms/step - loss: 0.2930 - val_loss: 0.2776\n",
      "Epoch 17/300\n",
      "1158/1158 [==============================] - 2s 2ms/step - loss: 0.2911 - val_loss: 0.2772\n",
      "Epoch 18/300\n",
      "1158/1158 [==============================] - 2s 2ms/step - loss: 0.2913 - val_loss: 0.2770\n",
      "Epoch 19/300\n",
      "1158/1158 [==============================] - 2s 2ms/step - loss: 0.2892 - val_loss: 0.2766\n",
      "Epoch 20/300\n",
      "1158/1158 [==============================] - 2s 2ms/step - loss: 0.2883 - val_loss: 0.2772\n",
      "Epoch 21/300\n",
      "1158/1158 [==============================] - 2s 2ms/step - loss: 0.2879 - val_loss: 0.2774\n",
      "Epoch 22/300\n",
      "1158/1158 [==============================] - 2s 2ms/step - loss: 0.2874 - val_loss: 0.2778\n",
      "Epoch 23/300\n",
      "1158/1158 [==============================] - 2s 2ms/step - loss: 0.2872 - val_loss: 0.2770\n",
      "Epoch 24/300\n",
      "1158/1158 [==============================] - 2s 2ms/step - loss: 0.2858 - val_loss: 0.2770\n",
      "Epoch 25/300\n",
      "1158/1158 [==============================] - 2s 2ms/step - loss: 0.2856 - val_loss: 0.2777\n",
      "Epoch 26/300\n",
      "1158/1158 [==============================] - 2s 2ms/step - loss: 0.2853 - val_loss: 0.2767\n",
      "Epoch 27/300\n",
      "1158/1158 [==============================] - 2s 2ms/step - loss: 0.2848 - val_loss: 0.2778\n",
      "Epoch 28/300\n",
      "1158/1158 [==============================] - 2s 2ms/step - loss: 0.2842 - val_loss: 0.2779\n",
      "Epoch 29/300\n",
      "1158/1158 [==============================] - 2s 2ms/step - loss: 0.2837 - val_loss: 0.2776\n",
      "Epoch 30/300\n",
      "1158/1158 [==============================] - 2s 2ms/step - loss: 0.2832 - val_loss: 0.2778\n",
      "Epoch 31/300\n",
      "1158/1158 [==============================] - 2s 2ms/step - loss: 0.2834 - val_loss: 0.2782\n",
      "Epoch 32/300\n",
      "1158/1158 [==============================] - 2s 2ms/step - loss: 0.2817 - val_loss: 0.2781\n",
      "Epoch 33/300\n",
      "1158/1158 [==============================] - 2s 2ms/step - loss: 0.2820 - val_loss: 0.2778\n",
      "Epoch 34/300\n",
      "1158/1158 [==============================] - 2s 2ms/step - loss: 0.2824 - val_loss: 0.2785\n",
      "Epoch 34: early stopping\n"
     ]
    },
    {
     "data": {
      "text/plain": [
       "<keras.callbacks.History at 0x2a740ba90>"
      ]
     },
     "execution_count": 45,
     "metadata": {},
     "output_type": "execute_result"
    }
   ],
   "source": [
    "model.fit(x=X_train,\n",
    "          y=y_train,\n",
    "          epochs=300,\n",
    "          batch_size=256,\n",
    "          validation_data=(X_test, y_test), verbose=1,\n",
    "          callbacks=[early_stop]\n",
    "          )"
   ]
  },
  {
   "cell_type": "code",
   "execution_count": 47,
   "id": "96fadce7",
   "metadata": {},
   "outputs": [
    {
     "data": {
      "text/plain": [
       "<Axes: >"
      ]
     },
     "execution_count": 47,
     "metadata": {},
     "output_type": "execute_result"
    },
    {
     "data": {
      "image/png": "[encoded data removed]",
      "text/plain": [
       "<Figure size 640x480 with 1 Axes>"
      ]
     },
     "metadata": {},
     "output_type": "display_data"
    }
   ],
   "source": [
    "model_loss = pd.DataFrame(model.history.history)\n",
    "model_loss.plot()"
   ]
  },
  {
   "cell_type": "code",
   "execution_count": 58,
   "id": "dae73ac7",
   "metadata": {},
   "outputs": [
    {
     "name": "stdout",
     "output_type": "stream",
     "text": [
      "3088/3088 [==============================] - 1s 304us/step\n"
     ]
    }
   ],
   "source": [
    "predictions = (model.predict(X_test) > 0.5).astype(\"int32\")"
   ]
  },
  {
   "cell_type": "markdown",
   "id": "e44ab704",
   "metadata": {},
   "source": [
    "# Performance Evaluation"
   ]
  },
  {
   "cell_type": "code",
   "execution_count": 55,
   "id": "ecf34a69",
   "metadata": {},
   "outputs": [],
   "source": [
    "from sklearn.metrics import confusion_matrix, classification_report"
   ]
  },
  {
   "cell_type": "code",
   "execution_count": 59,
   "id": "50378d56",
   "metadata": {
    "scrolled": false
   },
   "outputs": [
    {
     "name": "stdout",
     "output_type": "stream",
     "text": [
      "              precision    recall  f1-score   support\n",
      "\n",
      "           0       0.99      0.43      0.60     19428\n",
      "           1       0.88      1.00      0.93     79377\n",
      "\n",
      "    accuracy                           0.89     98805\n",
      "   macro avg       0.94      0.72      0.77     98805\n",
      "weighted avg       0.90      0.89      0.87     98805\n",
      "\n"
     ]
    }
   ],
   "source": [
    "print(classification_report(y_test, predictions))"
   ]
  },
  {
   "cell_type": "markdown",
   "id": "439ccbd3",
   "metadata": {},
   "source": [
    "# Saving Model"
   ]
  },
  {
   "cell_type": "code",
   "execution_count": 60,
   "id": "e6c31b79",
   "metadata": {},
   "outputs": [],
   "source": [
    "from tensorflow.keras.models import load_model"
   ]
  },
  {
   "cell_type": "code",
   "execution_count": null,
   "id": "88e9a6f1",
   "metadata": {},
   "outputs": [],
   "source": [
    "model.save('model.h5')"
   ]
  }
 ],
 "metadata": {
  "kernelspec": {
   "display_name": "Python 3 (ipykernel)",
   "language": "python",
   "name": "python3"
  },
  "language_info": {
   "codemirror_mode": {
    "name": "ipython",
    "version": 3
   },
   "file_extension": ".py",
   "mimetype": "text/x-python",
   "name": "python",
   "nbconvert_exporter": "python",
   "pygments_lexer": "ipython3",
   "version": "3.10.9"
  }
 },
 "nbformat": 4,
 "nbformat_minor": 5
}
