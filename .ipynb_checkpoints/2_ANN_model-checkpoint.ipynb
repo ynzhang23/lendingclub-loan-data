{
 "cells": [
  {
   "cell_type": "markdown",
   "id": "6d541c7e",
   "metadata": {},
   "source": [
    "# ANN Model\n",
    "\n",
    "I will be building, training and testing an ANN model against the cleaned data.\n",
    "\n",
    "Target: loan_status"
   ]
  },
  {
   "cell_type": "code",
   "execution_count": 2,
   "id": "143a3d1f",
   "metadata": {},
   "outputs": [],
   "source": [
    "import numpy as np\n",
    "import pandas as pd\n",
    "import matplotlib.pyplot as plt\n",
    "import seaborn as sns\n",
    "%matplotlib inline\n",
    "\n",
    "sns.set_style('white')"
   ]
  },
  {
   "cell_type": "code",
   "execution_count": null,
   "id": "26dbc38b",
   "metadata": {},
   "outputs": [],
   "source": [
    "import f"
   ]
  }
 ],
 "metadata": {
  "kernelspec": {
   "display_name": "Python 3 (ipykernel)",
   "language": "python",
   "name": "python3"
  },
  "language_info": {
   "codemirror_mode": {
    "name": "ipython",
    "version": 3
   },
   "file_extension": ".py",
   "mimetype": "text/x-python",
   "name": "python",
   "nbconvert_exporter": "python",
   "pygments_lexer": "ipython3",
   "version": "3.9.13"
  }
 },
 "nbformat": 4,
 "nbformat_minor": 5
}
