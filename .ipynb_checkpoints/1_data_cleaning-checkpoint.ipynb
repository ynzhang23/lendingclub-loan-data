{
 "cells": [
  {
   "cell_type": "markdown",
   "id": "0cf6efdf",
   "metadata": {},
   "source": [
    "# Lending Club Loan (Data Cleaning)\n",
    "\n",
    "Cleaning up the data to be fed into an ANN to predict if a borrower will default on their loan."
   ]
  },
  {
   "cell_type": "code",
   "execution_count": 2,
   "id": "b6fd1fcf",
   "metadata": {},
   "outputs": [],
   "source": [
    "import numpy as np\n",
    "import pandas as pd\n",
    "import matplotlib.pyplot as plt\n",
    "import seaborn as sns\n",
    "%matplotlib inline\n",
    "\n",
    "sns.set_style('white')"
   ]
  },
  {
   "cell_type": "code",
   "execution_count": 3,
   "id": "63c2b5b7",
   "metadata": {},
   "outputs": [],
   "source": [
    "loan_df = pd.read_csv('data/lending_club_loan_two.csv')"
   ]
  },
  {
   "cell_type": "code",
   "execution_count": 4,
   "id": "76db2fba",
   "metadata": {},
   "outputs": [],
   "source": [
    "info_df = pd.read_csv('data/lending_club_info.csv')"
   ]
  },
  {
   "cell_type": "markdown",
   "id": "6c7be229",
   "metadata": {},
   "source": [
    "# Feature info"
   ]
  },
  {
   "cell_type": "code",
   "execution_count": 5,
   "id": "c9039fda",
   "metadata": {
    "scrolled": false
   },
   "outputs": [
    {
     "data": {
      "text/html": [
       "<div>\n",
       "<style scoped>\n",
       "    .dataframe tbody tr th:only-of-type {\n",
       "        vertical-align: middle;\n",
       "    }\n",
       "\n",
       "    .dataframe tbody tr th {\n",
       "        vertical-align: top;\n",
       "    }\n",
       "\n",
       "    .dataframe thead th {\n",
       "        text-align: right;\n",
       "    }\n",
       "</style>\n",
       "<table border=\"1\" class=\"dataframe\">\n",
       "  <thead>\n",
       "    <tr style=\"text-align: right;\">\n",
       "      <th></th>\n",
       "      <th>LoanStatNew</th>\n",
       "      <th>Description</th>\n",
       "    </tr>\n",
       "  </thead>\n",
       "  <tbody>\n",
       "    <tr>\n",
       "      <th>0</th>\n",
       "      <td>loan_amnt</td>\n",
       "      <td>The listed amount of the loan applied for by t...</td>\n",
       "    </tr>\n",
       "    <tr>\n",
       "      <th>1</th>\n",
       "      <td>term</td>\n",
       "      <td>The number of payments on the loan. Values are...</td>\n",
       "    </tr>\n",
       "    <tr>\n",
       "      <th>2</th>\n",
       "      <td>int_rate</td>\n",
       "      <td>Interest Rate on the loan</td>\n",
       "    </tr>\n",
       "    <tr>\n",
       "      <th>3</th>\n",
       "      <td>installment</td>\n",
       "      <td>The monthly payment owed by the borrower if th...</td>\n",
       "    </tr>\n",
       "    <tr>\n",
       "      <th>4</th>\n",
       "      <td>grade</td>\n",
       "      <td>LC assigned loan grade</td>\n",
       "    </tr>\n",
       "    <tr>\n",
       "      <th>5</th>\n",
       "      <td>sub_grade</td>\n",
       "      <td>LC assigned loan subgrade</td>\n",
       "    </tr>\n",
       "    <tr>\n",
       "      <th>6</th>\n",
       "      <td>emp_title</td>\n",
       "      <td>The job title supplied by the Borrower when ap...</td>\n",
       "    </tr>\n",
       "    <tr>\n",
       "      <th>7</th>\n",
       "      <td>emp_length</td>\n",
       "      <td>Employment length in years. Possible values ar...</td>\n",
       "    </tr>\n",
       "    <tr>\n",
       "      <th>8</th>\n",
       "      <td>home_ownership</td>\n",
       "      <td>The home ownership status provided by the borr...</td>\n",
       "    </tr>\n",
       "    <tr>\n",
       "      <th>9</th>\n",
       "      <td>annual_inc</td>\n",
       "      <td>The self-reported annual income provided by th...</td>\n",
       "    </tr>\n",
       "    <tr>\n",
       "      <th>10</th>\n",
       "      <td>verification_status</td>\n",
       "      <td>Indicates if income was verified by LC, not ve...</td>\n",
       "    </tr>\n",
       "    <tr>\n",
       "      <th>11</th>\n",
       "      <td>issue_d</td>\n",
       "      <td>The month which the loan was funded</td>\n",
       "    </tr>\n",
       "    <tr>\n",
       "      <th>12</th>\n",
       "      <td>loan_status</td>\n",
       "      <td>Current status of the loan</td>\n",
       "    </tr>\n",
       "    <tr>\n",
       "      <th>13</th>\n",
       "      <td>purpose</td>\n",
       "      <td>A category provided by the borrower for the lo...</td>\n",
       "    </tr>\n",
       "    <tr>\n",
       "      <th>14</th>\n",
       "      <td>title</td>\n",
       "      <td>The loan title provided by the borrower</td>\n",
       "    </tr>\n",
       "    <tr>\n",
       "      <th>15</th>\n",
       "      <td>zip_code</td>\n",
       "      <td>The first 3 numbers of the zip code provided b...</td>\n",
       "    </tr>\n",
       "    <tr>\n",
       "      <th>16</th>\n",
       "      <td>addr_state</td>\n",
       "      <td>The state provided by the borrower in the loan...</td>\n",
       "    </tr>\n",
       "    <tr>\n",
       "      <th>17</th>\n",
       "      <td>dti</td>\n",
       "      <td>A ratio calculated using the borrower’s total ...</td>\n",
       "    </tr>\n",
       "    <tr>\n",
       "      <th>18</th>\n",
       "      <td>earliest_cr_line</td>\n",
       "      <td>The month the borrower's earliest reported cre...</td>\n",
       "    </tr>\n",
       "    <tr>\n",
       "      <th>19</th>\n",
       "      <td>open_acc</td>\n",
       "      <td>The number of open credit lines in the borrowe...</td>\n",
       "    </tr>\n",
       "    <tr>\n",
       "      <th>20</th>\n",
       "      <td>pub_rec</td>\n",
       "      <td>Number of derogatory public records</td>\n",
       "    </tr>\n",
       "    <tr>\n",
       "      <th>21</th>\n",
       "      <td>revol_bal</td>\n",
       "      <td>Total credit revolving balance</td>\n",
       "    </tr>\n",
       "    <tr>\n",
       "      <th>22</th>\n",
       "      <td>revol_util</td>\n",
       "      <td>Revolving line utilization rate, or the amount...</td>\n",
       "    </tr>\n",
       "    <tr>\n",
       "      <th>23</th>\n",
       "      <td>total_acc</td>\n",
       "      <td>The total number of credit lines currently in ...</td>\n",
       "    </tr>\n",
       "    <tr>\n",
       "      <th>24</th>\n",
       "      <td>initial_list_status</td>\n",
       "      <td>The initial listing status of the loan. Possib...</td>\n",
       "    </tr>\n",
       "    <tr>\n",
       "      <th>25</th>\n",
       "      <td>application_type</td>\n",
       "      <td>Indicates whether the loan is an individual ap...</td>\n",
       "    </tr>\n",
       "    <tr>\n",
       "      <th>26</th>\n",
       "      <td>mort_acc</td>\n",
       "      <td>Number of mortgage accounts.</td>\n",
       "    </tr>\n",
       "    <tr>\n",
       "      <th>27</th>\n",
       "      <td>pub_rec_bankruptcies</td>\n",
       "      <td>Number of public record bankruptcies</td>\n",
       "    </tr>\n",
       "  </tbody>\n",
       "</table>\n",
       "</div>"
      ],
      "text/plain": [
       "             LoanStatNew                                        Description\n",
       "0              loan_amnt  The listed amount of the loan applied for by t...\n",
       "1                   term  The number of payments on the loan. Values are...\n",
       "2               int_rate                          Interest Rate on the loan\n",
       "3            installment  The monthly payment owed by the borrower if th...\n",
       "4                  grade                             LC assigned loan grade\n",
       "5              sub_grade                          LC assigned loan subgrade\n",
       "6              emp_title  The job title supplied by the Borrower when ap...\n",
       "7             emp_length  Employment length in years. Possible values ar...\n",
       "8         home_ownership  The home ownership status provided by the borr...\n",
       "9             annual_inc  The self-reported annual income provided by th...\n",
       "10   verification_status  Indicates if income was verified by LC, not ve...\n",
       "11               issue_d                The month which the loan was funded\n",
       "12           loan_status                         Current status of the loan\n",
       "13               purpose  A category provided by the borrower for the lo...\n",
       "14                 title            The loan title provided by the borrower\n",
       "15              zip_code  The first 3 numbers of the zip code provided b...\n",
       "16            addr_state  The state provided by the borrower in the loan...\n",
       "17                   dti  A ratio calculated using the borrower’s total ...\n",
       "18      earliest_cr_line  The month the borrower's earliest reported cre...\n",
       "19              open_acc  The number of open credit lines in the borrowe...\n",
       "20               pub_rec                Number of derogatory public records\n",
       "21             revol_bal                     Total credit revolving balance\n",
       "22            revol_util  Revolving line utilization rate, or the amount...\n",
       "23             total_acc  The total number of credit lines currently in ...\n",
       "24   initial_list_status  The initial listing status of the loan. Possib...\n",
       "25      application_type  Indicates whether the loan is an individual ap...\n",
       "26              mort_acc                       Number of mortgage accounts.\n",
       "27  pub_rec_bankruptcies               Number of public record bankruptcies"
      ]
     },
     "execution_count": 5,
     "metadata": {},
     "output_type": "execute_result"
    }
   ],
   "source": [
    "info_df"
   ]
  },
  {
   "cell_type": "code",
   "execution_count": 6,
   "id": "a3a62618",
   "metadata": {},
   "outputs": [
    {
     "name": "stdout",
     "output_type": "stream",
     "text": [
      "<class 'pandas.core.frame.DataFrame'>\n",
      "RangeIndex: 396030 entries, 0 to 396029\n",
      "Data columns (total 27 columns):\n",
      " #   Column                Non-Null Count   Dtype  \n",
      "---  ------                --------------   -----  \n",
      " 0   loan_amnt             396030 non-null  float64\n",
      " 1   term                  396030 non-null  object \n",
      " 2   int_rate              396030 non-null  float64\n",
      " 3   installment           396030 non-null  float64\n",
      " 4   grade                 396030 non-null  object \n",
      " 5   sub_grade             396030 non-null  object \n",
      " 6   emp_title             373103 non-null  object \n",
      " 7   emp_length            377729 non-null  object \n",
      " 8   home_ownership        396030 non-null  object \n",
      " 9   annual_inc            396030 non-null  float64\n",
      " 10  verification_status   396030 non-null  object \n",
      " 11  issue_d               396030 non-null  object \n",
      " 12  loan_status           396030 non-null  object \n",
      " 13  purpose               396030 non-null  object \n",
      " 14  title                 394275 non-null  object \n",
      " 15  dti                   396030 non-null  float64\n",
      " 16  earliest_cr_line      396030 non-null  object \n",
      " 17  open_acc              396030 non-null  float64\n",
      " 18  pub_rec               396030 non-null  float64\n",
      " 19  revol_bal             396030 non-null  float64\n",
      " 20  revol_util            395754 non-null  float64\n",
      " 21  total_acc             396030 non-null  float64\n",
      " 22  initial_list_status   396030 non-null  object \n",
      " 23  application_type      396030 non-null  object \n",
      " 24  mort_acc              358235 non-null  float64\n",
      " 25  pub_rec_bankruptcies  395495 non-null  float64\n",
      " 26  address               396030 non-null  object \n",
      "dtypes: float64(12), object(15)\n",
      "memory usage: 81.6+ MB\n"
     ]
    }
   ],
   "source": [
    "loan_df.info()"
   ]
  },
  {
   "cell_type": "markdown",
   "id": "df176c35",
   "metadata": {},
   "source": [
    "# Missing Data Analysis"
   ]
  },
  {
   "cell_type": "code",
   "execution_count": 7,
   "id": "193510ae",
   "metadata": {
    "scrolled": false
   },
   "outputs": [
    {
     "data": {
      "text/plain": [
       "loan_amnt                   0\n",
       "term                        0\n",
       "int_rate                    0\n",
       "installment                 0\n",
       "grade                       0\n",
       "sub_grade                   0\n",
       "emp_title               22927\n",
       "emp_length              18301\n",
       "home_ownership              0\n",
       "annual_inc                  0\n",
       "verification_status         0\n",
       "issue_d                     0\n",
       "loan_status                 0\n",
       "purpose                     0\n",
       "title                    1755\n",
       "dti                         0\n",
       "earliest_cr_line            0\n",
       "open_acc                    0\n",
       "pub_rec                     0\n",
       "revol_bal                   0\n",
       "revol_util                276\n",
       "total_acc                   0\n",
       "initial_list_status         0\n",
       "application_type            0\n",
       "mort_acc                37795\n",
       "pub_rec_bankruptcies      535\n",
       "address                     0\n",
       "dtype: int64"
      ]
     },
     "execution_count": 7,
     "metadata": {},
     "output_type": "execute_result"
    }
   ],
   "source": [
    "loan_df.isnull().sum()"
   ]
  },
  {
   "cell_type": "code",
   "execution_count": 8,
   "id": "156a61e9",
   "metadata": {
    "scrolled": false
   },
   "outputs": [
    {
     "data": {
      "text/html": [
       "<div>\n",
       "<style scoped>\n",
       "    .dataframe tbody tr th:only-of-type {\n",
       "        vertical-align: middle;\n",
       "    }\n",
       "\n",
       "    .dataframe tbody tr th {\n",
       "        vertical-align: top;\n",
       "    }\n",
       "\n",
       "    .dataframe thead th {\n",
       "        text-align: right;\n",
       "    }\n",
       "</style>\n",
       "<table border=\"1\" class=\"dataframe\">\n",
       "  <thead>\n",
       "    <tr style=\"text-align: right;\">\n",
       "      <th></th>\n",
       "      <th>LoanStatNew</th>\n",
       "      <th>Description</th>\n",
       "    </tr>\n",
       "  </thead>\n",
       "  <tbody>\n",
       "    <tr>\n",
       "      <th>6</th>\n",
       "      <td>emp_title</td>\n",
       "      <td>The job title supplied by the Borrower when applying for the loan.*</td>\n",
       "    </tr>\n",
       "    <tr>\n",
       "      <th>7</th>\n",
       "      <td>emp_length</td>\n",
       "      <td>Employment length in years. Possible values are between 0 and 10 where 0 means less than one year and 10 means ten or more years.</td>\n",
       "    </tr>\n",
       "    <tr>\n",
       "      <th>14</th>\n",
       "      <td>title</td>\n",
       "      <td>The loan title provided by the borrower</td>\n",
       "    </tr>\n",
       "    <tr>\n",
       "      <th>22</th>\n",
       "      <td>revol_util</td>\n",
       "      <td>Revolving line utilization rate, or the amount of credit the borrower is using relative to all available revolving credit.</td>\n",
       "    </tr>\n",
       "    <tr>\n",
       "      <th>26</th>\n",
       "      <td>mort_acc</td>\n",
       "      <td>Number of mortgage accounts.</td>\n",
       "    </tr>\n",
       "    <tr>\n",
       "      <th>27</th>\n",
       "      <td>pub_rec_bankruptcies</td>\n",
       "      <td>Number of public record bankruptcies</td>\n",
       "    </tr>\n",
       "  </tbody>\n",
       "</table>\n",
       "</div>"
      ],
      "text/plain": [
       "             LoanStatNew  \\\n",
       "6              emp_title   \n",
       "7             emp_length   \n",
       "14                 title   \n",
       "22            revol_util   \n",
       "26              mort_acc   \n",
       "27  pub_rec_bankruptcies   \n",
       "\n",
       "                                                                                                                           Description  \n",
       "6                                                                  The job title supplied by the Borrower when applying for the loan.*  \n",
       "7   Employment length in years. Possible values are between 0 and 10 where 0 means less than one year and 10 means ten or more years.   \n",
       "14                                                                                             The loan title provided by the borrower  \n",
       "22          Revolving line utilization rate, or the amount of credit the borrower is using relative to all available revolving credit.  \n",
       "26                                                                                                        Number of mortgage accounts.  \n",
       "27                                                                                                Number of public record bankruptcies  "
      ]
     },
     "execution_count": 8,
     "metadata": {},
     "output_type": "execute_result"
    }
   ],
   "source": [
    "pd.set_option('display.max_colwidth', None)\n",
    "info_df.query('LoanStatNew in [\"emp_title\", \"emp_length\", \"title\", \"revol_util\", \"mort_acc\", \"pub_rec_bankruptcies\"]')"
   ]
  },
  {
   "cell_type": "markdown",
   "id": "56a269b5",
   "metadata": {},
   "source": [
    "## emp_length\n",
    "\n",
    "I need to investigate:\n",
    "1. if the missing value = unemployed\n",
    "2. if not, how does this value correlated to other values"
   ]
  },
  {
   "cell_type": "code",
   "execution_count": 9,
   "id": "7cea25b7",
   "metadata": {
    "scrolled": true
   },
   "outputs": [
    {
     "data": {
      "text/html": [
       "<div>\n",
       "<style scoped>\n",
       "    .dataframe tbody tr th:only-of-type {\n",
       "        vertical-align: middle;\n",
       "    }\n",
       "\n",
       "    .dataframe tbody tr th {\n",
       "        vertical-align: top;\n",
       "    }\n",
       "\n",
       "    .dataframe thead th {\n",
       "        text-align: right;\n",
       "    }\n",
       "</style>\n",
       "<table border=\"1\" class=\"dataframe\">\n",
       "  <thead>\n",
       "    <tr style=\"text-align: right;\">\n",
       "      <th></th>\n",
       "      <th>emp_title</th>\n",
       "      <th>emp_length</th>\n",
       "    </tr>\n",
       "  </thead>\n",
       "  <tbody>\n",
       "    <tr>\n",
       "      <th>35</th>\n",
       "      <td>NaN</td>\n",
       "      <td>NaN</td>\n",
       "    </tr>\n",
       "    <tr>\n",
       "      <th>36</th>\n",
       "      <td>NaN</td>\n",
       "      <td>NaN</td>\n",
       "    </tr>\n",
       "    <tr>\n",
       "      <th>49</th>\n",
       "      <td>NaN</td>\n",
       "      <td>NaN</td>\n",
       "    </tr>\n",
       "    <tr>\n",
       "      <th>58</th>\n",
       "      <td>NaN</td>\n",
       "      <td>NaN</td>\n",
       "    </tr>\n",
       "    <tr>\n",
       "      <th>91</th>\n",
       "      <td>NaN</td>\n",
       "      <td>NaN</td>\n",
       "    </tr>\n",
       "    <tr>\n",
       "      <th>155</th>\n",
       "      <td>NaN</td>\n",
       "      <td>NaN</td>\n",
       "    </tr>\n",
       "    <tr>\n",
       "      <th>168</th>\n",
       "      <td>NaN</td>\n",
       "      <td>NaN</td>\n",
       "    </tr>\n",
       "    <tr>\n",
       "      <th>187</th>\n",
       "      <td>NaN</td>\n",
       "      <td>NaN</td>\n",
       "    </tr>\n",
       "    <tr>\n",
       "      <th>218</th>\n",
       "      <td>NaN</td>\n",
       "      <td>NaN</td>\n",
       "    </tr>\n",
       "    <tr>\n",
       "      <th>246</th>\n",
       "      <td>NaN</td>\n",
       "      <td>NaN</td>\n",
       "    </tr>\n",
       "    <tr>\n",
       "      <th>277</th>\n",
       "      <td>NaN</td>\n",
       "      <td>NaN</td>\n",
       "    </tr>\n",
       "    <tr>\n",
       "      <th>278</th>\n",
       "      <td>NaN</td>\n",
       "      <td>NaN</td>\n",
       "    </tr>\n",
       "    <tr>\n",
       "      <th>281</th>\n",
       "      <td>NaN</td>\n",
       "      <td>NaN</td>\n",
       "    </tr>\n",
       "    <tr>\n",
       "      <th>322</th>\n",
       "      <td>NaN</td>\n",
       "      <td>NaN</td>\n",
       "    </tr>\n",
       "    <tr>\n",
       "      <th>361</th>\n",
       "      <td>NaN</td>\n",
       "      <td>NaN</td>\n",
       "    </tr>\n",
       "    <tr>\n",
       "      <th>366</th>\n",
       "      <td>NaN</td>\n",
       "      <td>NaN</td>\n",
       "    </tr>\n",
       "    <tr>\n",
       "      <th>380</th>\n",
       "      <td>NaN</td>\n",
       "      <td>NaN</td>\n",
       "    </tr>\n",
       "    <tr>\n",
       "      <th>407</th>\n",
       "      <td>NaN</td>\n",
       "      <td>NaN</td>\n",
       "    </tr>\n",
       "    <tr>\n",
       "      <th>411</th>\n",
       "      <td>NaN</td>\n",
       "      <td>NaN</td>\n",
       "    </tr>\n",
       "    <tr>\n",
       "      <th>443</th>\n",
       "      <td>NaN</td>\n",
       "      <td>NaN</td>\n",
       "    </tr>\n",
       "    <tr>\n",
       "      <th>469</th>\n",
       "      <td>NaN</td>\n",
       "      <td>NaN</td>\n",
       "    </tr>\n",
       "    <tr>\n",
       "      <th>474</th>\n",
       "      <td>NaN</td>\n",
       "      <td>NaN</td>\n",
       "    </tr>\n",
       "    <tr>\n",
       "      <th>484</th>\n",
       "      <td>NaN</td>\n",
       "      <td>NaN</td>\n",
       "    </tr>\n",
       "    <tr>\n",
       "      <th>524</th>\n",
       "      <td>NaN</td>\n",
       "      <td>NaN</td>\n",
       "    </tr>\n",
       "    <tr>\n",
       "      <th>562</th>\n",
       "      <td>NaN</td>\n",
       "      <td>NaN</td>\n",
       "    </tr>\n",
       "    <tr>\n",
       "      <th>594</th>\n",
       "      <td>NaN</td>\n",
       "      <td>NaN</td>\n",
       "    </tr>\n",
       "    <tr>\n",
       "      <th>596</th>\n",
       "      <td>NaN</td>\n",
       "      <td>NaN</td>\n",
       "    </tr>\n",
       "    <tr>\n",
       "      <th>602</th>\n",
       "      <td>NaN</td>\n",
       "      <td>NaN</td>\n",
       "    </tr>\n",
       "    <tr>\n",
       "      <th>607</th>\n",
       "      <td>NaN</td>\n",
       "      <td>NaN</td>\n",
       "    </tr>\n",
       "    <tr>\n",
       "      <th>638</th>\n",
       "      <td>NaN</td>\n",
       "      <td>NaN</td>\n",
       "    </tr>\n",
       "    <tr>\n",
       "      <th>675</th>\n",
       "      <td>NaN</td>\n",
       "      <td>NaN</td>\n",
       "    </tr>\n",
       "    <tr>\n",
       "      <th>688</th>\n",
       "      <td>NaN</td>\n",
       "      <td>NaN</td>\n",
       "    </tr>\n",
       "    <tr>\n",
       "      <th>699</th>\n",
       "      <td>NaN</td>\n",
       "      <td>NaN</td>\n",
       "    </tr>\n",
       "    <tr>\n",
       "      <th>709</th>\n",
       "      <td>NaN</td>\n",
       "      <td>NaN</td>\n",
       "    </tr>\n",
       "    <tr>\n",
       "      <th>736</th>\n",
       "      <td>NaN</td>\n",
       "      <td>NaN</td>\n",
       "    </tr>\n",
       "    <tr>\n",
       "      <th>810</th>\n",
       "      <td>NaN</td>\n",
       "      <td>NaN</td>\n",
       "    </tr>\n",
       "    <tr>\n",
       "      <th>885</th>\n",
       "      <td>NaN</td>\n",
       "      <td>NaN</td>\n",
       "    </tr>\n",
       "    <tr>\n",
       "      <th>893</th>\n",
       "      <td>NaN</td>\n",
       "      <td>NaN</td>\n",
       "    </tr>\n",
       "    <tr>\n",
       "      <th>911</th>\n",
       "      <td>NaN</td>\n",
       "      <td>NaN</td>\n",
       "    </tr>\n",
       "    <tr>\n",
       "      <th>917</th>\n",
       "      <td>NaN</td>\n",
       "      <td>NaN</td>\n",
       "    </tr>\n",
       "    <tr>\n",
       "      <th>964</th>\n",
       "      <td>NaN</td>\n",
       "      <td>NaN</td>\n",
       "    </tr>\n",
       "    <tr>\n",
       "      <th>966</th>\n",
       "      <td>NaN</td>\n",
       "      <td>NaN</td>\n",
       "    </tr>\n",
       "    <tr>\n",
       "      <th>967</th>\n",
       "      <td>NaN</td>\n",
       "      <td>NaN</td>\n",
       "    </tr>\n",
       "    <tr>\n",
       "      <th>987</th>\n",
       "      <td>NaN</td>\n",
       "      <td>NaN</td>\n",
       "    </tr>\n",
       "    <tr>\n",
       "      <th>989</th>\n",
       "      <td>NaN</td>\n",
       "      <td>NaN</td>\n",
       "    </tr>\n",
       "    <tr>\n",
       "      <th>1015</th>\n",
       "      <td>NaN</td>\n",
       "      <td>NaN</td>\n",
       "    </tr>\n",
       "    <tr>\n",
       "      <th>1028</th>\n",
       "      <td>NaN</td>\n",
       "      <td>NaN</td>\n",
       "    </tr>\n",
       "    <tr>\n",
       "      <th>1034</th>\n",
       "      <td>NaN</td>\n",
       "      <td>NaN</td>\n",
       "    </tr>\n",
       "    <tr>\n",
       "      <th>1077</th>\n",
       "      <td>NaN</td>\n",
       "      <td>NaN</td>\n",
       "    </tr>\n",
       "    <tr>\n",
       "      <th>1142</th>\n",
       "      <td>NaN</td>\n",
       "      <td>NaN</td>\n",
       "    </tr>\n",
       "  </tbody>\n",
       "</table>\n",
       "</div>"
      ],
      "text/plain": [
       "     emp_title emp_length\n",
       "35         NaN        NaN\n",
       "36         NaN        NaN\n",
       "49         NaN        NaN\n",
       "58         NaN        NaN\n",
       "91         NaN        NaN\n",
       "155        NaN        NaN\n",
       "168        NaN        NaN\n",
       "187        NaN        NaN\n",
       "218        NaN        NaN\n",
       "246        NaN        NaN\n",
       "277        NaN        NaN\n",
       "278        NaN        NaN\n",
       "281        NaN        NaN\n",
       "322        NaN        NaN\n",
       "361        NaN        NaN\n",
       "366        NaN        NaN\n",
       "380        NaN        NaN\n",
       "407        NaN        NaN\n",
       "411        NaN        NaN\n",
       "443        NaN        NaN\n",
       "469        NaN        NaN\n",
       "474        NaN        NaN\n",
       "484        NaN        NaN\n",
       "524        NaN        NaN\n",
       "562        NaN        NaN\n",
       "594        NaN        NaN\n",
       "596        NaN        NaN\n",
       "602        NaN        NaN\n",
       "607        NaN        NaN\n",
       "638        NaN        NaN\n",
       "675        NaN        NaN\n",
       "688        NaN        NaN\n",
       "699        NaN        NaN\n",
       "709        NaN        NaN\n",
       "736        NaN        NaN\n",
       "810        NaN        NaN\n",
       "885        NaN        NaN\n",
       "893        NaN        NaN\n",
       "911        NaN        NaN\n",
       "917        NaN        NaN\n",
       "964        NaN        NaN\n",
       "966        NaN        NaN\n",
       "967        NaN        NaN\n",
       "987        NaN        NaN\n",
       "989        NaN        NaN\n",
       "1015       NaN        NaN\n",
       "1028       NaN        NaN\n",
       "1034       NaN        NaN\n",
       "1077       NaN        NaN\n",
       "1142       NaN        NaN"
      ]
     },
     "execution_count": 9,
     "metadata": {},
     "output_type": "execute_result"
    }
   ],
   "source": [
    "loan_df.loc[loan_df['emp_length'].isnull()][['emp_title', 'emp_length']].head(50)"
   ]
  },
  {
   "cell_type": "markdown",
   "id": "412e05ae",
   "metadata": {},
   "source": [
    "It seems like without emp_length, they are unemployed as they do not have an employment title as well.\n",
    "\n",
    "I will allocate 0 to all NaN"
   ]
  },
  {
   "cell_type": "code",
   "execution_count": 10,
   "id": "4ffebd5a",
   "metadata": {},
   "outputs": [],
   "source": [
    "loan_df['emp_length'].fillna('Unemployed', inplace = True)"
   ]
  },
  {
   "cell_type": "code",
   "execution_count": 11,
   "id": "12965199",
   "metadata": {
    "scrolled": true
   },
   "outputs": [
    {
     "data": {
      "text/plain": [
       "10+ years     126041\n",
       "2 years        35827\n",
       "< 1 year       31725\n",
       "3 years        31665\n",
       "5 years        26495\n",
       "1 year         25882\n",
       "4 years        23952\n",
       "6 years        20841\n",
       "7 years        20819\n",
       "8 years        19168\n",
       "Unemployed     18301\n",
       "9 years        15314\n",
       "Name: emp_length, dtype: int64"
      ]
     },
     "execution_count": 11,
     "metadata": {},
     "output_type": "execute_result"
    }
   ],
   "source": [
    "loan_df['emp_length'].value_counts()"
   ]
  },
  {
   "cell_type": "markdown",
   "id": "2cdc3891",
   "metadata": {},
   "source": [
    "## emp_title\n",
    "\n",
    "There is too much variation, I will be dropping the whole column for this project."
   ]
  },
  {
   "cell_type": "code",
   "execution_count": 12,
   "id": "451796c6",
   "metadata": {
    "scrolled": false
   },
   "outputs": [
    {
     "data": {
      "text/plain": [
       "Teacher                    4389\n",
       "Manager                    4250\n",
       "Registered Nurse           1856\n",
       "RN                         1846\n",
       "Supervisor                 1830\n",
       "                           ... \n",
       "Postman                       1\n",
       "McCarthy & Holthus, LLC       1\n",
       "jp flooring                   1\n",
       "Histology Technologist        1\n",
       "Gracon Services, Inc          1\n",
       "Name: emp_title, Length: 173105, dtype: int64"
      ]
     },
     "execution_count": 12,
     "metadata": {},
     "output_type": "execute_result"
    }
   ],
   "source": [
    "loan_df['emp_title'].value_counts()"
   ]
  },
  {
   "cell_type": "code",
   "execution_count": 13,
   "id": "4a3882b6",
   "metadata": {
    "scrolled": true
   },
   "outputs": [],
   "source": [
    "loan_df.drop('emp_title', axis=1, inplace=True)"
   ]
  },
  {
   "cell_type": "markdown",
   "id": "8c815470",
   "metadata": {},
   "source": [
    "## title"
   ]
  },
  {
   "cell_type": "code",
   "execution_count": 14,
   "id": "1046078e",
   "metadata": {},
   "outputs": [
    {
     "data": {
      "text/plain": [
       "Debt consolidation            152472\n",
       "Credit card refinancing        51487\n",
       "Home improvement               15264\n",
       "Other                          12930\n",
       "Debt Consolidation             11608\n",
       "                               ...  \n",
       "Graduation/Travel Expenses         1\n",
       "Daughter's Wedding Bill            1\n",
       "gotta move                         1\n",
       "creditcardrefi                     1\n",
       "Toxic Debt Payoff                  1\n",
       "Name: title, Length: 48817, dtype: int64"
      ]
     },
     "execution_count": 14,
     "metadata": {},
     "output_type": "execute_result"
    }
   ],
   "source": [
    "loan_df['title'].value_counts()"
   ]
  },
  {
   "cell_type": "code",
   "execution_count": 15,
   "id": "8847a154",
   "metadata": {},
   "outputs": [
    {
     "data": {
      "text/plain": [
       "debt_consolidation    234507\n",
       "credit_card            83019\n",
       "home_improvement       24030\n",
       "other                  21185\n",
       "major_purchase          8790\n",
       "small_business          5701\n",
       "car                     4697\n",
       "medical                 4196\n",
       "moving                  2854\n",
       "vacation                2452\n",
       "house                   2201\n",
       "wedding                 1812\n",
       "renewable_energy         329\n",
       "educational              257\n",
       "Name: purpose, dtype: int64"
      ]
     },
     "execution_count": 15,
     "metadata": {},
     "output_type": "execute_result"
    }
   ],
   "source": [
    "loan_df['purpose'].value_counts()"
   ]
  },
  {
   "cell_type": "markdown",
   "id": "072d2b9a",
   "metadata": {},
   "source": [
    "I will drop the 'title' column as 'purpose' column suffice."
   ]
  },
  {
   "cell_type": "code",
   "execution_count": 16,
   "id": "c869b851",
   "metadata": {},
   "outputs": [],
   "source": [
    "loan_df.drop('title', axis=1, inplace=True)"
   ]
  },
  {
   "cell_type": "markdown",
   "id": "6cb69c20",
   "metadata": {},
   "source": [
    "## revol_util + pub_rec_bankruptcies\n",
    "\n",
    "There is only a few missing data, since the dataset is so huge, I will be dropping those rows."
   ]
  },
  {
   "cell_type": "code",
   "execution_count": 17,
   "id": "ca93fe25",
   "metadata": {},
   "outputs": [],
   "source": [
    "loan_df.dropna(subset=['revol_util', 'pub_rec_bankruptcies'], inplace=True)"
   ]
  },
  {
   "cell_type": "markdown",
   "id": "8b1806c9",
   "metadata": {},
   "source": [
    "## final verification"
   ]
  },
  {
   "cell_type": "code",
   "execution_count": 18,
   "id": "3283f605",
   "metadata": {
    "scrolled": false
   },
   "outputs": [
    {
     "data": {
      "text/plain": [
       "loan_amnt                   0\n",
       "term                        0\n",
       "int_rate                    0\n",
       "installment                 0\n",
       "grade                       0\n",
       "sub_grade                   0\n",
       "emp_length                  0\n",
       "home_ownership              0\n",
       "annual_inc                  0\n",
       "verification_status         0\n",
       "issue_d                     0\n",
       "loan_status                 0\n",
       "purpose                     0\n",
       "dti                         0\n",
       "earliest_cr_line            0\n",
       "open_acc                    0\n",
       "pub_rec                     0\n",
       "revol_bal                   0\n",
       "revol_util                  0\n",
       "total_acc                   0\n",
       "initial_list_status         0\n",
       "application_type            0\n",
       "mort_acc                37205\n",
       "pub_rec_bankruptcies        0\n",
       "address                     0\n",
       "dtype: int64"
      ]
     },
     "execution_count": 18,
     "metadata": {},
     "output_type": "execute_result"
    }
   ],
   "source": [
    "loan_df.isnull().sum()"
   ]
  },
  {
   "cell_type": "markdown",
   "id": "b21d67a4",
   "metadata": {},
   "source": [
    "## mort_acc\n"
   ]
  },
  {
   "cell_type": "code",
   "execution_count": 19,
   "id": "eaa5090a",
   "metadata": {
    "scrolled": true
   },
   "outputs": [
    {
     "name": "stderr",
     "output_type": "stream",
     "text": [
      "/Users/ottenheimer/anaconda3/lib/python3.9/site-packages/seaborn/_decorators.py:36: FutureWarning: Pass the following variable as a keyword arg: x. From version 0.12, the only valid positional argument will be `data`, and passing other arguments without an explicit keyword will result in an error or misinterpretation.\n",
      "  warnings.warn(\n"
     ]
    },
    {
     "data": {
      "text/plain": [
       "<AxesSubplot:xlabel='mort_acc', ylabel='count'>"
      ]
     },
     "execution_count": 19,
     "metadata": {},
     "output_type": "execute_result"
    },
    {
     "data": {
      "image/png": "[encoded data removed]",
      "text/plain": [
       "<Figure size 640x480 with 1 Axes>"
      ]
     },
     "metadata": {},
     "output_type": "display_data"
    }
   ],
   "source": [
    "sns.countplot(loan_df['mort_acc'])"
   ]
  },
  {
   "cell_type": "markdown",
   "id": "75ad4a45",
   "metadata": {},
   "source": [
    "*I will use a regression model to replace the missing data after feature encoding*"
   ]
  },
  {
   "cell_type": "markdown",
   "id": "e054ad39",
   "metadata": {},
   "source": [
    "# Feature Encoding"
   ]
  },
  {
   "cell_type": "markdown",
   "id": "5cb6385d",
   "metadata": {},
   "source": [
    "## Loan Status"
   ]
  },
  {
   "cell_type": "code",
   "execution_count": 20,
   "id": "82827d5a",
   "metadata": {},
   "outputs": [
    {
     "data": {
      "text/plain": [
       "Fully Paid     317696\n",
       "Charged Off     77523\n",
       "Name: loan_status, dtype: int64"
      ]
     },
     "execution_count": 20,
     "metadata": {},
     "output_type": "execute_result"
    }
   ],
   "source": [
    "loan_df['loan_status'].value_counts()"
   ]
  },
  {
   "cell_type": "code",
   "execution_count": 21,
   "id": "cb2c9afc",
   "metadata": {},
   "outputs": [
    {
     "data": {
      "text/plain": [
       "1    317696\n",
       "0     77523\n",
       "Name: loan_status, dtype: int64"
      ]
     },
     "execution_count": 21,
     "metadata": {},
     "output_type": "execute_result"
    }
   ],
   "source": [
    "def convert(status):\n",
    "    if status == 'Fully Paid':\n",
    "        return 1\n",
    "    else:\n",
    "        return 0\n",
    "\n",
    "loan_df['loan_status'] = loan_df['loan_status'].apply(convert)\n",
    "loan_df['loan_status'].value_counts()"
   ]
  },
  {
   "cell_type": "markdown",
   "id": "c57fff63",
   "metadata": {},
   "source": [
    "## Address Extraction\n"
   ]
  },
  {
   "cell_type": "code",
   "execution_count": 22,
   "id": "ca72ba4a",
   "metadata": {},
   "outputs": [
    {
     "data": {
      "text/plain": [
       "0                 0174 Michelle Gateway\\nMendozaberg, OK 22690\n",
       "1              1076 Carney Fort Apt. 347\\nLoganmouth, SD 05113\n",
       "2              87025 Mark Dale Apt. 269\\nNew Sabrina, WV 05113\n",
       "3                        823 Reid Ford\\nDelacruzside, MA 00813\n",
       "4                         679 Luna Roads\\nGreggshire, VA 11650\n",
       "                                  ...                         \n",
       "396025          12951 Williams Crossing\\nJohnnyville, DC 30723\n",
       "396026    0114 Fowler Field Suite 028\\nRachelborough, LA 05113\n",
       "396027        953 Matthew Points Suite 414\\nReedfort, NY 70466\n",
       "396028      7843 Blake Freeway Apt. 229\\nNew Michael, FL 29597\n",
       "396029             787 Michelle Causeway\\nBriannaton, AR 48052\n",
       "Name: address, Length: 395219, dtype: object"
      ]
     },
     "execution_count": 22,
     "metadata": {},
     "output_type": "execute_result"
    }
   ],
   "source": [
    "loan_df['address']"
   ]
  },
  {
   "cell_type": "code",
   "execution_count": 23,
   "id": "40a65d13",
   "metadata": {},
   "outputs": [
    {
     "data": {
      "text/plain": [
       "0    OK\n",
       "1    SD\n",
       "2    WV\n",
       "3    MA\n",
       "4    VA\n",
       "Name: state, dtype: object"
      ]
     },
     "execution_count": 23,
     "metadata": {},
     "output_type": "execute_result"
    }
   ],
   "source": [
    "def get_state(address):\n",
    "    return address.split()[-2]\n",
    "\n",
    "loan_df['state'] = loan_df['address'].apply(get_state)\n",
    "loan_df['state'].head()"
   ]
  },
  {
   "cell_type": "code",
   "execution_count": 24,
   "id": "698dd181",
   "metadata": {},
   "outputs": [
    {
     "data": {
      "text/plain": [
       "0    22690\n",
       "1    05113\n",
       "2    05113\n",
       "3    00813\n",
       "4    11650\n",
       "Name: zip, dtype: object"
      ]
     },
     "execution_count": 24,
     "metadata": {},
     "output_type": "execute_result"
    }
   ],
   "source": [
    "def get_zip(address):\n",
    "    return address.split()[-1]\n",
    "\n",
    "loan_df['zip'] = loan_df['address'].apply(get_zip)\n",
    "loan_df['zip'].head()"
   ]
  },
  {
   "cell_type": "code",
   "execution_count": 25,
   "id": "0fd16b75",
   "metadata": {},
   "outputs": [],
   "source": [
    "loan_df.drop('address', axis =1, inplace=True)"
   ]
  },
  {
   "cell_type": "markdown",
   "id": "ff71c7ab",
   "metadata": {},
   "source": [
    "## Convert Date Time"
   ]
  },
  {
   "cell_type": "markdown",
   "id": "1ebdca7d",
   "metadata": {},
   "source": [
    "## issue_d"
   ]
  },
  {
   "cell_type": "code",
   "execution_count": 26,
   "id": "c42a9528",
   "metadata": {},
   "outputs": [
    {
     "data": {
      "text/plain": [
       "0         Jan-2015\n",
       "1         Jan-2015\n",
       "2         Jan-2015\n",
       "3         Nov-2014\n",
       "4         Apr-2013\n",
       "            ...   \n",
       "396025    Oct-2015\n",
       "396026    Feb-2015\n",
       "396027    Oct-2013\n",
       "396028    Aug-2012\n",
       "396029    Jun-2010\n",
       "Name: issue_d, Length: 395219, dtype: object"
      ]
     },
     "execution_count": 26,
     "metadata": {},
     "output_type": "execute_result"
    }
   ],
   "source": [
    "loan_df['issue_d']"
   ]
  },
  {
   "cell_type": "code",
   "execution_count": 27,
   "id": "1a50cfc1",
   "metadata": {},
   "outputs": [],
   "source": [
    "loan_df['issue_year'] = loan_df['issue_d'].apply(lambda d: int(d.split('-')[1]))"
   ]
  },
  {
   "cell_type": "code",
   "execution_count": 28,
   "id": "5310fc18",
   "metadata": {
    "scrolled": true
   },
   "outputs": [
    {
     "data": {
      "text/plain": [
       "10    42075\n",
       "7     39655\n",
       "1     34534\n",
       "11    34027\n",
       "4     33201\n",
       "8     32766\n",
       "5     31873\n",
       "3     31805\n",
       "6     30117\n",
       "12    28989\n",
       "2     28594\n",
       "9     27583\n",
       "Name: issue_month, dtype: int64"
      ]
     },
     "execution_count": 28,
     "metadata": {},
     "output_type": "execute_result"
    }
   ],
   "source": [
    "import calendar\n",
    "\n",
    "abbr_to_num = {name: num for num, name in enumerate(calendar.month_abbr) if num}\n",
    "\n",
    "loan_df['issue_month'] = loan_df['issue_d'].apply(lambda d: d.split('-')[0])\n",
    "loan_df['issue_month'] = loan_df['issue_month'].replace(abbr_to_num)\n",
    "loan_df['issue_month'].value_counts()"
   ]
  },
  {
   "cell_type": "code",
   "execution_count": 29,
   "id": "df03827b",
   "metadata": {},
   "outputs": [],
   "source": [
    "loan_df.drop('issue_d', axis=1, inplace=True)"
   ]
  },
  {
   "cell_type": "markdown",
   "id": "4f9922b8",
   "metadata": {},
   "source": [
    "## earliest_cr_line"
   ]
  },
  {
   "cell_type": "code",
   "execution_count": 30,
   "id": "9a0ca4f2",
   "metadata": {},
   "outputs": [
    {
     "data": {
      "text/plain": [
       "Oct-2000    3013\n",
       "Aug-2000    2930\n",
       "Oct-2001    2890\n",
       "Aug-2001    2879\n",
       "Nov-2000    2729\n",
       "            ... \n",
       "Jul-1955       1\n",
       "Oct-1950       1\n",
       "May-1958       1\n",
       "Nov-1955       1\n",
       "Aug-1959       1\n",
       "Name: earliest_cr_line, Length: 684, dtype: int64"
      ]
     },
     "execution_count": 30,
     "metadata": {},
     "output_type": "execute_result"
    }
   ],
   "source": [
    "loan_df['earliest_cr_line'].value_counts()"
   ]
  },
  {
   "cell_type": "code",
   "execution_count": 31,
   "id": "1d7a768c",
   "metadata": {},
   "outputs": [],
   "source": [
    "loan_df['earliest_cr_line_y'] = loan_df['earliest_cr_line'].apply(lambda d: int(d.split('-')[1]))\n",
    "\n",
    "loan_df['earliest_cr_line_m'] = loan_df['earliest_cr_line'].apply(lambda d: d.split('-')[0])\n",
    "loan_df['earliest_cr_line_m'] = loan_df['earliest_cr_line_m'].replace(abbr_to_num)\n",
    "\n",
    "loan_df.drop('earliest_cr_line', axis=1,inplace=True)"
   ]
  },
  {
   "cell_type": "markdown",
   "id": "57ec58e0",
   "metadata": {},
   "source": [
    "## Convert to Dummies\n",
    "\n",
    "- term\n",
    "- grade\n",
    "- sub_grade\n",
    "- emp_length\n",
    "- home_ownership\n",
    "- verification_status\n",
    "- issue_month\n",
    "- issue_year\n",
    "- loan_status\n",
    "- purpose\n",
    "- initial_list_status\n",
    "- application_type"
   ]
  },
  {
   "cell_type": "code",
   "execution_count": 32,
   "id": "7eb9cd2b",
   "metadata": {
    "scrolled": false
   },
   "outputs": [],
   "source": [
    "feats = ['term',\n",
    "         'grade',\n",
    "         'sub_grade', \n",
    "         'emp_length',\n",
    "         'home_ownership', \n",
    "         'verification_status', \n",
    "         'issue_month',\n",
    "         'issue_year',\n",
    "         'purpose',\n",
    "         'initial_list_status',\n",
    "         'application_type',\n",
    "         'state'\n",
    "        ]\n",
    "\n",
    "loan = pd.get_dummies(loan_df, columns=feats, drop_first=True)"
   ]
  },
  {
   "cell_type": "markdown",
   "id": "52d2ea7a",
   "metadata": {},
   "source": [
    "# Replacing mort_acc missing values\n",
    "\n",
    "There is a trend according to the analysis above, hence I will use a regression model to generate the missing values."
   ]
  },
  {
   "cell_type": "code",
   "execution_count": 33,
   "id": "4ec706a4",
   "metadata": {
    "scrolled": false
   },
   "outputs": [
    {
     "data": {
      "text/plain": [
       "loan_amnt      37205\n",
       "int_rate       37205\n",
       "installment    37205\n",
       "annual_inc     37205\n",
       "loan_status    37205\n",
       "               ...  \n",
       "state_VT       37205\n",
       "state_WA       37205\n",
       "state_WI       37205\n",
       "state_WV       37205\n",
       "state_WY       37205\n",
       "Length: 164, dtype: int64"
      ]
     },
     "execution_count": 33,
     "metadata": {},
     "output_type": "execute_result"
    }
   ],
   "source": [
    "loan[loan['mort_acc'].isnull() == True].count()"
   ]
  },
  {
   "cell_type": "code",
   "execution_count": 34,
   "id": "a1f7099d",
   "metadata": {},
   "outputs": [
    {
     "data": {
      "text/plain": [
       "<AxesSubplot:>"
      ]
     },
     "execution_count": 34,
     "metadata": {},
     "output_type": "execute_result"
    },
    {
     "data": {
      "image/png": "[encoded data removed]",
      "text/plain": [
       "<Figure size 1000x1000 with 2 Axes>"
      ]
     },
     "metadata": {},
     "output_type": "display_data"
    }
   ],
   "source": [
    "plt.figure(figsize=(10,10))\n",
    "sns.heatmap(data=loan_df.corr(), annot=True)"
   ]
  },
  {
   "cell_type": "markdown",
   "id": "db17b796",
   "metadata": {},
   "source": [
    "From the heatmap, we can estimate that the most correlated values are:\n",
    "1. 'total_acc': 0.38\n",
    "2. 'revol_bal': 0.2\n",
    "3. 'annual_inc': 0.24\n",
    "4. 'installment': 0.19\n",
    "5. 'loan_amnt': 0.22"
   ]
  },
  {
   "cell_type": "code",
   "execution_count": 35,
   "id": "2a80eb61",
   "metadata": {},
   "outputs": [
    {
     "data": {
      "text/plain": [
       "23    The total number of credit lines currently in the borrower's credit file\n",
       "Name: Description, dtype: object"
      ]
     },
     "execution_count": 35,
     "metadata": {},
     "output_type": "execute_result"
    }
   ],
   "source": [
    "info_df[info_df['LoanStatNew'] == 'total_acc']['Description']"
   ]
  },
  {
   "cell_type": "code",
   "execution_count": 36,
   "id": "45994cfb",
   "metadata": {
    "scrolled": false
   },
   "outputs": [
    {
     "data": {
      "text/plain": [
       "(-5.45, 158.45)"
      ]
     },
     "execution_count": 36,
     "metadata": {},
     "output_type": "execute_result"
    },
    {
     "data": {
      "image/png": "[encoded data removed]",
      "text/plain": [
       "<Figure size 640x480 with 1 Axes>"
      ]
     },
     "metadata": {},
     "output_type": "display_data"
    }
   ],
   "source": [
    "sns.scatterplot(data=loan, x='total_acc', y='mort_acc', alpha=0.1)\n",
    "plt.ylim(9)\n",
    "plt.xlim()"
   ]
  },
  {
   "cell_type": "markdown",
   "id": "218e88cf",
   "metadata": {},
   "source": [
    "There is not a very close relation between mort_acc and total_acc"
   ]
  },
  {
   "cell_type": "markdown",
   "id": "90db0bb6",
   "metadata": {},
   "source": [
    "## Logistic Regression Attempt"
   ]
  },
  {
   "cell_type": "code",
   "execution_count": 37,
   "id": "f50188ce",
   "metadata": {},
   "outputs": [],
   "source": [
    "from sklearn.linear_model import LogisticRegression\n",
    "\n",
    "mort_acc_model = LogisticRegression(solver='sag', max_iter=10000)"
   ]
  },
  {
   "cell_type": "code",
   "execution_count": 38,
   "id": "701427c4",
   "metadata": {
    "scrolled": false
   },
   "outputs": [
    {
     "data": {
      "text/plain": [
       "loan_amnt      0\n",
       "int_rate       0\n",
       "installment    0\n",
       "annual_inc     0\n",
       "loan_status    0\n",
       "              ..\n",
       "state_VT       0\n",
       "state_WA       0\n",
       "state_WI       0\n",
       "state_WV       0\n",
       "state_WY       0\n",
       "Length: 164, dtype: int64"
      ]
     },
     "execution_count": 38,
     "metadata": {},
     "output_type": "execute_result"
    }
   ],
   "source": [
    "from sklearn.model_selection import train_test_split\n",
    "\n",
    "loan_no_null = loan.dropna(subset=['mort_acc'])\n",
    "\n",
    "loan_no_null[loan_no_null['mort_acc'].isnull() == True].count()"
   ]
  },
  {
   "cell_type": "code",
   "execution_count": 39,
   "id": "418291ea",
   "metadata": {},
   "outputs": [],
   "source": [
    "X = loan_no_null.iloc[:1000][['total_acc', 'annual_inc']]\n",
    "y = loan_no_null.iloc[:1000]['mort_acc']\n",
    "\n",
    "X_train, X_test, y_train, y_test = train_test_split(X, y)"
   ]
  },
  {
   "cell_type": "code",
   "execution_count": 40,
   "id": "a8cbdec7",
   "metadata": {},
   "outputs": [
    {
     "data": {
      "text/html": [
       "<style>#sk-container-id-1 {color: black;background-color: white;}#sk-container-id-1 pre{padding: 0;}#sk-container-id-1 div.sk-toggleable {background-color: white;}#sk-container-id-1 label.sk-toggleable__label {cursor: pointer;display: block;width: 100%;margin-bottom: 0;padding: 0.3em;box-sizing: border-box;text-align: center;}#sk-container-id-1 label.sk-toggleable__label-arrow:before {content: \"▸\";float: left;margin-right: 0.25em;color: #696969;}#sk-container-id-1 label.sk-toggleable__label-arrow:hover:before {color: black;}#sk-container-id-1 div.sk-estimator:hover label.sk-toggleable__label-arrow:before {color: black;}#sk-container-id-1 div.sk-toggleable__content {max-height: 0;max-width: 0;overflow: hidden;text-align: left;background-color: #f0f8ff;}#sk-container-id-1 div.sk-toggleable__content pre {margin: 0.2em;color: black;border-radius: 0.25em;background-color: #f0f8ff;}#sk-container-id-1 input.sk-toggleable__control:checked~div.sk-toggleable__content {max-height: 200px;max-width: 100%;overflow: auto;}#sk-container-id-1 input.sk-toggleable__control:checked~label.sk-toggleable__label-arrow:before {content: \"▾\";}#sk-container-id-1 div.sk-estimator input.sk-toggleable__control:checked~label.sk-toggleable__label {background-color: #d4ebff;}#sk-container-id-1 div.sk-label input.sk-toggleable__control:checked~label.sk-toggleable__label {background-color: #d4ebff;}#sk-container-id-1 input.sk-hidden--visually {border: 0;clip: rect(1px 1px 1px 1px);clip: rect(1px, 1px, 1px, 1px);height: 1px;margin: -1px;overflow: hidden;padding: 0;position: absolute;width: 1px;}#sk-container-id-1 div.sk-estimator {font-family: monospace;background-color: #f0f8ff;border: 1px dotted black;border-radius: 0.25em;box-sizing: border-box;margin-bottom: 0.5em;}#sk-container-id-1 div.sk-estimator:hover {background-color: #d4ebff;}#sk-container-id-1 div.sk-parallel-item::after {content: \"\";width: 100%;border-bottom: 1px solid gray;flex-grow: 1;}#sk-container-id-1 div.sk-label:hover label.sk-toggleable__label {background-color: #d4ebff;}#sk-container-id-1 div.sk-serial::before {content: \"\";position: absolute;border-left: 1px solid gray;box-sizing: border-box;top: 0;bottom: 0;left: 50%;z-index: 0;}#sk-container-id-1 div.sk-serial {display: flex;flex-direction: column;align-items: center;background-color: white;padding-right: 0.2em;padding-left: 0.2em;position: relative;}#sk-container-id-1 div.sk-item {position: relative;z-index: 1;}#sk-container-id-1 div.sk-parallel {display: flex;align-items: stretch;justify-content: center;background-color: white;position: relative;}#sk-container-id-1 div.sk-item::before, #sk-container-id-1 div.sk-parallel-item::before {content: \"\";position: absolute;border-left: 1px solid gray;box-sizing: border-box;top: 0;bottom: 0;left: 50%;z-index: -1;}#sk-container-id-1 div.sk-parallel-item {display: flex;flex-direction: column;z-index: 1;position: relative;background-color: white;}#sk-container-id-1 div.sk-parallel-item:first-child::after {align-self: flex-end;width: 50%;}#sk-container-id-1 div.sk-parallel-item:last-child::after {align-self: flex-start;width: 50%;}#sk-container-id-1 div.sk-parallel-item:only-child::after {width: 0;}#sk-container-id-1 div.sk-dashed-wrapped {border: 1px dashed gray;margin: 0 0.4em 0.5em 0.4em;box-sizing: border-box;padding-bottom: 0.4em;background-color: white;}#sk-container-id-1 div.sk-label label {font-family: monospace;font-weight: bold;display: inline-block;line-height: 1.2em;}#sk-container-id-1 div.sk-label-container {text-align: center;}#sk-container-id-1 div.sk-container {/* jupyter's `normalize.less` sets `[hidden] { display: none; }` but bootstrap.min.css set `[hidden] { display: none !important; }` so we also need the `!important` here to be able to override the default hidden behavior on the sphinx rendered scikit-learn.org. See: https://github.com/scikit-learn/scikit-learn/issues/21755 */display: inline-block !important;position: relative;}#sk-container-id-1 div.sk-text-repr-fallback {display: none;}</style><div id=\"sk-container-id-1\" class=\"sk-top-container\"><div class=\"sk-text-repr-fallback\"><pre>LogisticRegression(max_iter=10000, solver=&#x27;sag&#x27;)</pre><b>In a Jupyter environment, please rerun this cell to show the HTML representation or trust the notebook. <br />On GitHub, the HTML representation is unable to render, please try loading this page with nbviewer.org.</b></div><div class=\"sk-container\" hidden><div class=\"sk-item\"><div class=\"sk-estimator sk-toggleable\"><input class=\"sk-toggleable__control sk-hidden--visually\" id=\"sk-estimator-id-1\" type=\"checkbox\" checked><label for=\"sk-estimator-id-1\" class=\"sk-toggleable__label sk-toggleable__label-arrow\">LogisticRegression</label><div class=\"sk-toggleable__content\"><pre>LogisticRegression(max_iter=10000, solver=&#x27;sag&#x27;)</pre></div></div></div></div></div>"
      ],
      "text/plain": [
       "LogisticRegression(max_iter=10000, solver='sag')"
      ]
     },
     "execution_count": 40,
     "metadata": {},
     "output_type": "execute_result"
    }
   ],
   "source": [
    "mort_acc_model.fit(X_train, y_train)"
   ]
  },
  {
   "cell_type": "code",
   "execution_count": 41,
   "id": "054bac70",
   "metadata": {},
   "outputs": [],
   "source": [
    "predictions = mort_acc_model.predict(X_test)"
   ]
  },
  {
   "cell_type": "code",
   "execution_count": 42,
   "id": "b8805dda",
   "metadata": {},
   "outputs": [
    {
     "name": "stdout",
     "output_type": "stream",
     "text": [
      "\n",
      "\n",
      "              precision    recall  f1-score   support\n",
      "\n",
      "         0.0       0.42      1.00      0.59       105\n",
      "         1.0       0.00      0.00      0.00        35\n",
      "         2.0       0.00      0.00      0.00        39\n",
      "         3.0       0.00      0.00      0.00        29\n",
      "         4.0       0.00      0.00      0.00        21\n",
      "         5.0       0.00      0.00      0.00         5\n",
      "         6.0       0.00      0.00      0.00         9\n",
      "         7.0       0.00      0.00      0.00         4\n",
      "         8.0       0.00      0.00      0.00         1\n",
      "        11.0       0.00      0.00      0.00         2\n",
      "\n",
      "    accuracy                           0.42       250\n",
      "   macro avg       0.04      0.10      0.06       250\n",
      "weighted avg       0.18      0.42      0.25       250\n",
      "\n"
     ]
    },
    {
     "name": "stderr",
     "output_type": "stream",
     "text": [
      "/Users/ottenheimer/anaconda3/lib/python3.9/site-packages/sklearn/metrics/_classification.py:1327: UndefinedMetricWarning: Precision and F-score are ill-defined and being set to 0.0 in labels with no predicted samples. Use `zero_division` parameter to control this behavior.\n",
      "  _warn_prf(average, modifier, msg_start, len(result))\n",
      "/Users/ottenheimer/anaconda3/lib/python3.9/site-packages/sklearn/metrics/_classification.py:1327: UndefinedMetricWarning: Precision and F-score are ill-defined and being set to 0.0 in labels with no predicted samples. Use `zero_division` parameter to control this behavior.\n",
      "  _warn_prf(average, modifier, msg_start, len(result))\n",
      "/Users/ottenheimer/anaconda3/lib/python3.9/site-packages/sklearn/metrics/_classification.py:1327: UndefinedMetricWarning: Precision and F-score are ill-defined and being set to 0.0 in labels with no predicted samples. Use `zero_division` parameter to control this behavior.\n",
      "  _warn_prf(average, modifier, msg_start, len(result))\n"
     ]
    }
   ],
   "source": [
    "from sklearn.metrics import confusion_matrix, classification_report\n",
    "print('\\n')\n",
    "print(classification_report(y_test, predictions))"
   ]
  },
  {
   "cell_type": "markdown",
   "id": "be3e72b0",
   "metadata": {},
   "source": [
    "This is sub-optimal result, I will be using the *mean amount of mort_acc* for *each total_acc value* to replace the missing values"
   ]
  },
  {
   "cell_type": "markdown",
   "id": "07f6dd38",
   "metadata": {},
   "source": [
    "## Attempt: Replacing with Mean Amount"
   ]
  },
  {
   "cell_type": "code",
   "execution_count": 43,
   "id": "097f9551",
   "metadata": {
    "scrolled": true
   },
   "outputs": [],
   "source": [
    "mean_mort_per_total_acc = loan.groupby('total_acc')['mort_acc'].mean()"
   ]
  },
  {
   "cell_type": "code",
   "execution_count": 44,
   "id": "4bf40eb1",
   "metadata": {},
   "outputs": [
    {
     "data": {
      "text/plain": [
       "total_acc\n",
       "2.0      0.000000\n",
       "3.0      0.052326\n",
       "4.0      0.066743\n",
       "5.0      0.102108\n",
       "6.0      0.151123\n",
       "           ...   \n",
       "124.0    1.000000\n",
       "129.0    1.000000\n",
       "135.0    3.000000\n",
       "150.0    2.000000\n",
       "151.0    0.000000\n",
       "Name: mort_acc, Length: 118, dtype: float64"
      ]
     },
     "execution_count": 44,
     "metadata": {},
     "output_type": "execute_result"
    }
   ],
   "source": [
    "mean_mort_per_total_acc"
   ]
  },
  {
   "cell_type": "code",
   "execution_count": 45,
   "id": "95c5fcd6",
   "metadata": {},
   "outputs": [],
   "source": [
    "mean_mort_per_total_acc = mean_mort_per_total_acc.to_dict()"
   ]
  },
  {
   "cell_type": "code",
   "execution_count": 59,
   "id": "78b26723",
   "metadata": {
    "scrolled": true
   },
   "outputs": [
    {
     "data": {
      "text/plain": [
       "{2.0: 0,\n",
       " 3.0: 0,\n",
       " 4.0: 0,\n",
       " 5.0: 0,\n",
       " 6.0: 0,\n",
       " 7.0: 0,\n",
       " 8.0: 0,\n",
       " 9.0: 0,\n",
       " 10.0: 0,\n",
       " 11.0: 1,\n",
       " 12.0: 1,\n",
       " 13.0: 1,\n",
       " 14.0: 1,\n",
       " 15.0: 1,\n",
       " 16.0: 1,\n",
       " 17.0: 1,\n",
       " 18.0: 1,\n",
       " 19.0: 1,\n",
       " 20.0: 1,\n",
       " 21.0: 2,\n",
       " 22.0: 2,\n",
       " 23.0: 2,\n",
       " 24.0: 2,\n",
       " 25.0: 2,\n",
       " 26.0: 2,\n",
       " 27.0: 2,\n",
       " 28.0: 2,\n",
       " 29.0: 2,\n",
       " 30.0: 2,\n",
       " 31.0: 2,\n",
       " 32.0: 2,\n",
       " 33.0: 3,\n",
       " 34.0: 3,\n",
       " 35.0: 3,\n",
       " 36.0: 3,\n",
       " 37.0: 3,\n",
       " 38.0: 3,\n",
       " 39.0: 3,\n",
       " 40.0: 3,\n",
       " 41.0: 3,\n",
       " 42.0: 3,\n",
       " 43.0: 3,\n",
       " 44.0: 3,\n",
       " 45.0: 3,\n",
       " 46.0: 3,\n",
       " 47.0: 3,\n",
       " 48.0: 3,\n",
       " 49.0: 3,\n",
       " 50.0: 3,\n",
       " 51.0: 3,\n",
       " 52.0: 3,\n",
       " 53.0: 3,\n",
       " 54.0: 3,\n",
       " 55.0: 3,\n",
       " 56.0: 3,\n",
       " 57.0: 3,\n",
       " 58.0: 3,\n",
       " 59.0: 3,\n",
       " 60.0: 4,\n",
       " 61.0: 3,\n",
       " 62.0: 3,\n",
       " 63.0: 3,\n",
       " 64.0: 3,\n",
       " 65.0: 3,\n",
       " 66.0: 3,\n",
       " 67.0: 3,\n",
       " 68.0: 3,\n",
       " 69.0: 3,\n",
       " 70.0: 4,\n",
       " 71.0: 3,\n",
       " 72.0: 3,\n",
       " 73.0: 4,\n",
       " 74.0: 3,\n",
       " 75.0: 3,\n",
       " 76.0: 2,\n",
       " 77.0: 3,\n",
       " 78.0: 4,\n",
       " 79.0: 3,\n",
       " 80.0: 3,\n",
       " 81.0: 3,\n",
       " 82.0: 1,\n",
       " 83.0: 2,\n",
       " 84.0: 3,\n",
       " 85.0: 4,\n",
       " 86.0: 3,\n",
       " 87.0: 3,\n",
       " 88.0: 3,\n",
       " 89.0: 5,\n",
       " 90.0: 2,\n",
       " 91.0: 3,\n",
       " 92.0: 5,\n",
       " 93.0: 2,\n",
       " 94.0: 3,\n",
       " 95.0: 2,\n",
       " 96.0: 3,\n",
       " 97.0: 4,\n",
       " 98.0: 0,\n",
       " 99.0: 4,\n",
       " 100.0: 4,\n",
       " 101.0: 2,\n",
       " 102.0: 4,\n",
       " 103.0: 0,\n",
       " 104.0: 8,\n",
       " 105.0: 4,\n",
       " 106.0: 2,\n",
       " 107.0: 3,\n",
       " 108.0: 0,\n",
       " 110.0: 3,\n",
       " 111.0: 2,\n",
       " 115.0: 8,\n",
       " 116.0: 4,\n",
       " 117.0: 0,\n",
       " 118.0: 1,\n",
       " 124.0: 1,\n",
       " 129.0: 1,\n",
       " 135.0: 3,\n",
       " 150.0: 2,\n",
       " 151.0: 0}"
      ]
     },
     "execution_count": 59,
     "metadata": {},
     "output_type": "execute_result"
    }
   ],
   "source": [
    "mort_acc_prediction = {k: round(v) for k, v in mean_mort_per_total_acc.items()}\n",
    "mort_acc_prediction"
   ]
  },
  {
   "cell_type": "code",
   "execution_count": 62,
   "id": "56ed975a",
   "metadata": {},
   "outputs": [
    {
     "data": {
      "text/plain": [
       "22         7.0\n",
       "25        10.0\n",
       "32        18.0\n",
       "41        16.0\n",
       "62        17.0\n",
       "          ... \n",
       "395991    21.0\n",
       "395995    20.0\n",
       "396016    23.0\n",
       "396021    50.0\n",
       "396029    19.0\n",
       "Name: total_acc, Length: 37205, dtype: float64"
      ]
     },
     "execution_count": 62,
     "metadata": {},
     "output_type": "execute_result"
    }
   ],
   "source": [
    "loan[loan['mort_acc'].isnull()]['total_acc']"
   ]
  },
  {
   "cell_type": "code",
   "execution_count": 65,
   "id": "eecfd676",
   "metadata": {},
   "outputs": [],
   "source": [
    "def fill_null(total_acc):\n",
    "    if total_acc not in mort_acc_prediction:\n",
    "        return 0\n",
    "    else:\n",
    "        return mort_acc_prediction[total_acc]\n",
    "\n",
    "loan.loc[loan['mort_acc'].isnull(), ['mort_acc']] = loan.loc[loan['mort_acc'].isnull(), ['total_acc']].apply(lambda x: fill_null(x[0]), axis=1)"
   ]
  },
  {
   "cell_type": "code",
   "execution_count": 69,
   "id": "0c004b56",
   "metadata": {
    "scrolled": true
   },
   "outputs": [
    {
     "data": {
      "text/plain": [
       "loan_amnt      0\n",
       "int_rate       0\n",
       "installment    0\n",
       "annual_inc     0\n",
       "loan_status    0\n",
       "              ..\n",
       "state_VT       0\n",
       "state_WA       0\n",
       "state_WI       0\n",
       "state_WV       0\n",
       "state_WY       0\n",
       "Length: 164, dtype: int64"
      ]
     },
     "execution_count": 69,
     "metadata": {},
     "output_type": "execute_result"
    }
   ],
   "source": [
    "loan[loan['mort_acc'].isnull()].count()"
   ]
  },
  {
   "cell_type": "code",
   "execution_count": 73,
   "id": "ee6f6187",
   "metadata": {},
   "outputs": [],
   "source": [
    "loan.to_csv('data/loan.csv')"
   ]
  }
 ],
 "metadata": {
  "kernelspec": {
   "display_name": "Python 3 (ipykernel)",
   "language": "python",
   "name": "python3"
  },
  "language_info": {
   "codemirror_mode": {
    "name": "ipython",
    "version": 3
   },
   "file_extension": ".py",
   "mimetype": "text/x-python",
   "name": "python",
   "nbconvert_exporter": "python",
   "pygments_lexer": "ipython3",
   "version": "3.9.13"
  }
 },
 "nbformat": 4,
 "nbformat_minor": 5
}
